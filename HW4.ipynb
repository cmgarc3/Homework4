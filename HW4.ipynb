{
  "nbformat": 4,
  "nbformat_minor": 0,
  "metadata": {
    "colab": {
      "provenance": [],
      "collapsed_sections": [
        "L9RxtLDEkMzR",
        "nXYjz1_lUfkL",
        "VXXsn84ZUS2q",
        "X3-xsE7oWlMQ",
        "M2lf96V_adoL",
        "Hdrqor1Pbk0L",
        "Hsix8Y_wb-i9",
        "8iK-OSgFcj-O",
        "HNeJMNtwc8ni",
        "S9_BAZMzdLiV",
        "O-XUrKT4dqco",
        "ZQJ81qVbeU6P",
        "_5i7Ufzke4tB",
        "rG-IqmfXfebr",
        "AVw2Q8jQf7k8",
        "L4J-zc5QgjQb",
        "BuyZdibng8pY",
        "HJrNLKCohROa",
        "uhvWQuK9hl-b",
        "yYzmcLi2iWZi",
        "FqGtRywmixXX"
      ],
      "authorship_tag": "ABX9TyM5GY2KgwABn1utP6WJXfxa",
      "include_colab_link": true
    },
    "kernelspec": {
      "name": "python3",
      "display_name": "Python 3"
    },
    "language_info": {
      "name": "python"
    }
  },
  "cells": [
    {
      "cell_type": "markdown",
      "metadata": {
        "id": "view-in-github",
        "colab_type": "text"
      },
      "source": [
        "<a href=\"https://colab.research.google.com/github/cmgarc3/Homework4/blob/main/HW4.ipynb\" target=\"_parent\"><img src=\"https://colab.research.google.com/assets/colab-badge.svg\" alt=\"Open In Colab\"/></a>"
      ]
    },
    {
      "cell_type": "markdown",
      "source": [
        "**<h1>Sarcastic Tweets!<h1>**\n",
        "\n",
        "### Detecting Sarcasm using the Cloud Natural Language API: Sentiment Analysis\n",
        "\n",
        "![image](https://www.politico.com/dims4/default/a545f30/2147483647/strip/true/crop/2417x1610+0+0/resize/1290x859!/quality/90/?url=https%3A%2F%2Fstatic.politico.com%2Fb0%2F8b%2F076938b34fca93820a45be26176d%2Fmag-scola-twitter-lede.jpg)\n"
      ],
      "metadata": {
        "id": "GegkBYOFkH0p"
      }
    },
    {
      "cell_type": "markdown",
      "source": [
        "## Introduction\n",
        "\n",
        "The Cloud Natural Language API analyzes the structure and meaning of text, including sentiment analysis, entity recognition, and text annotations. Natural Language Processing is an important tool for political analysts because of its ability to make sense of a vast amount of data and information to decipher the meaning and implications of the text. There are several examples of using NLPs for predicting political affiliation or providing insights into political behavior. For this project I became interested in the sentiment analysis aspect of the Cloud Natural Language API. As a mathematics and political science major, I am incredibly passionate about the use of ML models and its application in politics.\n",
        "\n",
        "Twitter is the social media platform where people most discuss and argue about politics. With discussions about presidential nominees and consistent news on politics I decided to conduct sentiment analyzes on a series of tweets discussing a variety of topics in US politics. In regards to politics, peoples’ tweets also tend to be sarcastic. **I am interested in whether the Cloud Natural Language API is able to detect the true sentiment behind a sarcastic tweet.** The reason I chose sarcasm is because of its complexity. The words may be written in a positive manner, but the tone can be sarcastic and only understood through context which the NLP API does not have.\n",
        "\n",
        "If the NLP API is successful in detecting sarcasm then tweets that are written ‘positively’ should receive a score close to -1 dictating the true negative sentiment. If the NLP API is unsuccessful in detecting sarcasm then tweets written ‘positively’ should return a score of 1 indicating the statement is positive.\n"
      ],
      "metadata": {
        "id": "q9UJtLuHkKcR"
      }
    },
    {
      "cell_type": "markdown",
      "source": [
        "## Hypothesis\n",
        "\n",
        "I believe that the NLP model will not accurately detect sarcasm, therefore giving it a score closer to one indicating the statement is positive. "
      ],
      "metadata": {
        "id": "bhEYqvwSW0RR"
      }
    },
    {
      "cell_type": "markdown",
      "source": [
        "## Method\n",
        "\n",
        "Collecting the data involved going to Twitter and searching key words such as *politics*, *Biden*, *Mike Pence*, *Presidential Nominee*, *MTG*, *AOC*, *Policy*, *Elections*. After each keyword search it required some scrolling to find tweets with *sarcasm*. Some tweets required context in order to understand the sarcasm. For example the tweet below by Rep. Brendan Boyle (D) mocking George Santos (R) requires understanding that Santos had told extensive lies regarding his career. I also decided to look through *#sarcasm* and found several tweets that are perfect for testing this model due to the way it is written. For example several of these tweets use the terms: *love*, and *exciting* when the true meaning is the opposite. \n",
        "\n",
        "![sampletweet](https://github.com/cmgarc3/Homework4/blob/main/ExampleTweet.JPG?raw=True)\n",
        "\n",
        "Once the tweets have been collected, I used Cloud Shell to run the Natural Language API. After creating an API key I had to make a sentiment analysis request using the code below. In the output we get two types of sentiment values: sentiment for the whole text and sentiment broken down by sentence. The **score** output is a number from -1.0 to 1.0 that indicates how positive or negative the statement is. The **magnitude** output is a number from 0 to infinity that indicates the weight of the sentiment expressed. \n",
        "\n",
        "![SampleOutput](https://github.com/cmgarc3/Homework4/blob/main/Data17.JPG?raw=True)\n",
        "\n",
        "I then used jq to extract the magnitude and score key value pairs from the JSON output. I then exported this into a spreadsheet to conduct analysis. \n",
        "\n"
      ],
      "metadata": {
        "id": "UsVMGA-TW11n"
      }
    },
    {
      "cell_type": "markdown",
      "source": [
        "## Raw Data\n",
        "\n",
        "[Raw Data Collected](https://docs.google.com/spreadsheets/d/1fOP3g5cpIUa8NWJV1RRazo-xetEs70sTHpJGryDsRmU/edit?usp=sharing)\n",
        "\n",
        "The JSON results from the NLP are in the public google cloud bucket I created. (gs://bucketgarcia/*.json .)"
      ],
      "metadata": {
        "id": "8-EFRRzkccZD"
      }
    },
    {
      "cell_type": "markdown",
      "source": [
        "## Code"
      ],
      "metadata": {
        "id": "L9RxtLDEkMzR"
      }
    },
    {
      "cell_type": "markdown",
      "source": [
        "### Connecting to Google Cloud"
      ],
      "metadata": {
        "id": "nXYjz1_lUfkL"
      }
    },
    {
      "cell_type": "code",
      "source": [
        "! gcloud config set account 'cecilia.m.garcia1940@gmail.com'"
      ],
      "metadata": {
        "colab": {
          "base_uri": "https://localhost:8080/"
        },
        "id": "iOAGHJ9bHoKL",
        "outputId": "dd66c0e4-d648-464f-a95e-5258c7372eb6"
      },
      "execution_count": null,
      "outputs": [
        {
          "output_type": "stream",
          "name": "stdout",
          "text": [
            "Updated property [core/account].\n"
          ]
        }
      ]
    },
    {
      "cell_type": "code",
      "source": [
        "! gcloud config set project homework4-383612"
      ],
      "metadata": {
        "colab": {
          "base_uri": "https://localhost:8080/"
        },
        "id": "iBwJJI75H7oN",
        "outputId": "e288270d-e1f6-46c7-8fd9-1c6e194934c0"
      },
      "execution_count": null,
      "outputs": [
        {
          "output_type": "stream",
          "name": "stdout",
          "text": [
            "\u001b[1;33mWARNING:\u001b[0m You do not appear to have access to project [homework4-383612] or it does not exist.\n",
            "Are you sure you wish to set property [core/project] to homework4-383612?\n",
            "\n",
            "Do you want to continue (Y/n)?  Y\n",
            "\n",
            "Updated property [core/project].\n"
          ]
        }
      ]
    },
    {
      "cell_type": "code",
      "source": [
        "! gcloud auth login"
      ],
      "metadata": {
        "colab": {
          "base_uri": "https://localhost:8080/"
        },
        "id": "uvSVJ1H8IkNn",
        "outputId": "eae0bd1f-4e72-4f23-afe6-a19f30838d5e"
      },
      "execution_count": null,
      "outputs": [
        {
          "output_type": "stream",
          "name": "stdout",
          "text": [
            "Go to the following link in your browser:\n",
            "\n",
            "    https://accounts.google.com/o/oauth2/auth?response_type=code&client_id=32555940559.apps.googleusercontent.com&redirect_uri=https%3A%2F%2Fsdk.cloud.google.com%2Fauthcode.html&scope=openid+https%3A%2F%2Fwww.googleapis.com%2Fauth%2Fuserinfo.email+https%3A%2F%2Fwww.googleapis.com%2Fauth%2Fcloud-platform+https%3A%2F%2Fwww.googleapis.com%2Fauth%2Fappengine.admin+https%3A%2F%2Fwww.googleapis.com%2Fauth%2Fsqlservice.login+https%3A%2F%2Fwww.googleapis.com%2Fauth%2Fcompute+https%3A%2F%2Fwww.googleapis.com%2Fauth%2Faccounts.reauth&state=Aa3k29sityQa3VOJXOadS1LA4yN8HY&prompt=consent&access_type=offline&code_challenge=nsjVbq8JdiTnsqpoBNUaoQULxhgylDDkgBhfGbHZ_rI&code_challenge_method=S256\n",
            "\n",
            "Enter authorization code: 4/0AVHEtk45aT8-Gk9iJqMqCzQvzuE4R-gW-h-g5-hZQ486UjaCgYS6xhY7ZotNvQ0N1SBYqQ\n",
            "\n",
            "You are now logged in as [cecilia.m.garcia1940@gmail.com].\n",
            "Your current project is [homework4-383612].  You can change this setting by running:\n",
            "  $ gcloud config set project PROJECT_ID\n"
          ]
        }
      ]
    },
    {
      "cell_type": "code",
      "source": [
        "! gcloud config list project"
      ],
      "metadata": {
        "colab": {
          "base_uri": "https://localhost:8080/"
        },
        "id": "Jrx-7GUoI2ow",
        "outputId": "5097d656-4f55-41c9-ced6-b88919290f63"
      },
      "execution_count": null,
      "outputs": [
        {
          "output_type": "stream",
          "name": "stdout",
          "text": [
            "[core]\n",
            "project = homework4-383612\n",
            "\n",
            "Your active configuration is: [default]\n"
          ]
        }
      ]
    },
    {
      "cell_type": "code",
      "source": [
        "! export GOOGLE_CLOUD_PROJECT=$(gcloud config get-value core/project)"
      ],
      "metadata": {
        "id": "2WwrvzLIHLqS"
      },
      "execution_count": null,
      "outputs": []
    },
    {
      "cell_type": "code",
      "source": [
        "! gcloud iam service-accounts create my-natlang-sa \\\n",
        "  --display-name \"my natural language service account\""
      ],
      "metadata": {
        "colab": {
          "base_uri": "https://localhost:8080/"
        },
        "id": "EVYCjbIJHjNm",
        "outputId": "0bdec5e9-b13c-49a5-faba-cd5e073fd9cf"
      },
      "execution_count": null,
      "outputs": [
        {
          "output_type": "stream",
          "name": "stdout",
          "text": [
            "\u001b[1;31mERROR:\u001b[0m (gcloud.iam.service-accounts.create) Resource in projects [homework4-383612] is the subject of a conflict: Service account my-natlang-sa already exists within project projects/homework4-383612.\n",
            "- '@type': type.googleapis.com/google.rpc.ResourceInfo\n",
            "  resourceName: projects/homework4-383612/serviceAccounts/my-natlang-sa@homework4-383612.iam.gserviceaccount.com\n"
          ]
        }
      ]
    },
    {
      "cell_type": "code",
      "source": [
        "! gsutil cp  gs://bucketgarcia/*.json ."
      ],
      "metadata": {
        "colab": {
          "base_uri": "https://localhost:8080/"
        },
        "id": "am1M3plHT6Kf",
        "outputId": "28832827-95f3-4a14-bcdb-556735772c06"
      },
      "execution_count": null,
      "outputs": [
        {
          "output_type": "stream",
          "name": "stdout",
          "text": [
            "Copying gs://bucketgarcia/data1.json...\n",
            "/ [0 files][    0.0 B/  355.0 B]                                                \r/ [1 files][  355.0 B/  355.0 B]                                                \rCopying gs://bucketgarcia/data10.json...\n",
            "Copying gs://bucketgarcia/data11.json...\n",
            "Copying gs://bucketgarcia/data12.json...\n",
            "/ [4 files][  1.8 KiB/  1.8 KiB]                                                \n",
            "==> NOTE: You are performing a sequence of gsutil operations that may\n",
            "run significantly faster if you instead use gsutil -m cp ... Please\n",
            "see the -m section under \"gsutil help options\" for further information\n",
            "about when gsutil -m can be advantageous.\n",
            "\n",
            "Copying gs://bucketgarcia/data13.json...\n",
            "Copying gs://bucketgarcia/data14.json...\n",
            "Copying gs://bucketgarcia/data15.json...\n",
            "Copying gs://bucketgarcia/data16.json...\n",
            "Copying gs://bucketgarcia/data17.json...\n",
            "Copying gs://bucketgarcia/data18.json...\n",
            "Copying gs://bucketgarcia/data2.json...\n",
            "Copying gs://bucketgarcia/data3.json...\n",
            "Copying gs://bucketgarcia/data4.json...\n",
            "Copying gs://bucketgarcia/data5.json...\n",
            "Copying gs://bucketgarcia/data6.json...\n",
            "Copying gs://bucketgarcia/data76.json...\n",
            "Copying gs://bucketgarcia/data8.json...\n",
            "Copying gs://bucketgarcia/data9.json...\n",
            "Copying gs://bucketgarcia/key.json...\n",
            "Copying gs://bucketgarcia/request.json...\n",
            "Copying gs://bucketgarcia/result.json...\n",
            "\\ [21 files][ 11.4 KiB/ 11.4 KiB]                                               \n",
            "Operation completed over 21 objects/11.4 KiB.                                    \n"
          ]
        }
      ]
    },
    {
      "cell_type": "code",
      "source": [
        "! ls"
      ],
      "metadata": {
        "colab": {
          "base_uri": "https://localhost:8080/"
        },
        "id": "c-dONAwUJkSO",
        "outputId": "1731f25c-e575-4eec-c6a0-03b2db3d2207"
      },
      "execution_count": null,
      "outputs": [
        {
          "output_type": "stream",
          "name": "stdout",
          "text": [
            "data10.json  data14.json  data18.json  data4.json   data8.json\t  result.json\n",
            "data11.json  data15.json  data1.json   data5.json   data9.json\t  sample_data\n",
            "data12.json  data16.json  data2.json   data6.json   key.json\n",
            "data13.json  data17.json  data3.json   data76.json  request.json\n"
          ]
        }
      ]
    },
    {
      "cell_type": "markdown",
      "source": [
        "### Using jq to extract JSON {key,value} pairs of Interest"
      ],
      "metadata": {
        "id": "VXXsn84ZUS2q"
      }
    },
    {
      "cell_type": "code",
      "source": [
        "!apt-get install jq"
      ],
      "metadata": {
        "id": "jK94BfR-Uq00"
      },
      "execution_count": null,
      "outputs": []
    },
    {
      "cell_type": "code",
      "source": [
        "import pandas as pd"
      ],
      "metadata": {
        "id": "EmgxI3nXXigP"
      },
      "execution_count": null,
      "outputs": []
    },
    {
      "cell_type": "markdown",
      "source": [
        "#### Data 1\n",
        "Mike Pence got booed at the NRA Convention today in his home state of Indiana."
      ],
      "metadata": {
        "id": "X3-xsE7oWlMQ"
      }
    },
    {
      "cell_type": "code",
      "source": [
        "!jq < data1.json"
      ],
      "metadata": {
        "id": "3oxo4SaReEBa",
        "colab": {
          "base_uri": "https://localhost:8080/"
        },
        "outputId": "fa2148c4-d02a-4260-f1f4-12858332ca8f"
      },
      "execution_count": null,
      "outputs": [
        {
          "output_type": "stream",
          "name": "stdout",
          "text": [
            "\u001b[1;39m{\n",
            "  \u001b[0m\u001b[34;1m\"documentSentiment\"\u001b[0m\u001b[1;39m: \u001b[0m\u001b[1;39m{\n",
            "    \u001b[0m\u001b[34;1m\"magnitude\"\u001b[0m\u001b[1;39m: \u001b[0m\u001b[0;39m0.6\u001b[0m\u001b[1;39m,\n",
            "    \u001b[0m\u001b[34;1m\"score\"\u001b[0m\u001b[1;39m: \u001b[0m\u001b[0;39m-0.6\u001b[0m\u001b[1;39m\n",
            "  \u001b[1;39m}\u001b[0m\u001b[1;39m,\n",
            "  \u001b[0m\u001b[34;1m\"language\"\u001b[0m\u001b[1;39m: \u001b[0m\u001b[0;32m\"en\"\u001b[0m\u001b[1;39m,\n",
            "  \u001b[0m\u001b[34;1m\"sentences\"\u001b[0m\u001b[1;39m: \u001b[0m\u001b[1;39m[\n",
            "    \u001b[1;39m{\n",
            "      \u001b[0m\u001b[34;1m\"sentiment\"\u001b[0m\u001b[1;39m: \u001b[0m\u001b[1;39m{\n",
            "        \u001b[0m\u001b[34;1m\"magnitude\"\u001b[0m\u001b[1;39m: \u001b[0m\u001b[0;39m0.6\u001b[0m\u001b[1;39m,\n",
            "        \u001b[0m\u001b[34;1m\"score\"\u001b[0m\u001b[1;39m: \u001b[0m\u001b[0;39m-0.6\u001b[0m\u001b[1;39m\n",
            "      \u001b[1;39m}\u001b[0m\u001b[1;39m,\n",
            "      \u001b[0m\u001b[34;1m\"text\"\u001b[0m\u001b[1;39m: \u001b[0m\u001b[1;39m{\n",
            "        \u001b[0m\u001b[34;1m\"beginOffset\"\u001b[0m\u001b[1;39m: \u001b[0m\u001b[0;39m0\u001b[0m\u001b[1;39m,\n",
            "        \u001b[0m\u001b[34;1m\"content\"\u001b[0m\u001b[1;39m: \u001b[0m\u001b[0;32m\"Mike Pence got booed at the NRA Convention today in his home state of Indiana.\"\u001b[0m\u001b[1;39m\n",
            "      \u001b[1;39m}\u001b[0m\u001b[1;39m\n",
            "    \u001b[1;39m}\u001b[0m\u001b[1;39m\n",
            "  \u001b[1;39m]\u001b[0m\u001b[1;39m\n",
            "\u001b[1;39m}\u001b[0m\n"
          ]
        }
      ]
    },
    {
      "cell_type": "code",
      "source": [
        "!jq '.documentSentiment' < data1.json > sentiment1.json"
      ],
      "metadata": {
        "id": "ZAjQlS3UWgQO"
      },
      "execution_count": null,
      "outputs": []
    },
    {
      "cell_type": "code",
      "source": [
        "pd.read_json('sentiment1.json', typ='series')"
      ],
      "metadata": {
        "colab": {
          "base_uri": "https://localhost:8080/"
        },
        "id": "c3oCRCHEXmFT",
        "outputId": "1cd51fa5-f36e-4d24-e990-a09503e9a1fe"
      },
      "execution_count": null,
      "outputs": [
        {
          "output_type": "execute_result",
          "data": {
            "text/plain": [
              "magnitude    0.6\n",
              "score       -0.6\n",
              "dtype: float64"
            ]
          },
          "metadata": {},
          "execution_count": 34
        }
      ]
    },
    {
      "cell_type": "code",
      "source": [
        "df = pd.read_json('sentiment1.json', typ='series')"
      ],
      "metadata": {
        "id": "7KFFlMgDZgYt"
      },
      "execution_count": null,
      "outputs": []
    },
    {
      "cell_type": "code",
      "source": [
        "df.to_csv('sentiment1.csv')"
      ],
      "metadata": {
        "id": "VNqJVwZZZmd2"
      },
      "execution_count": null,
      "outputs": []
    },
    {
      "cell_type": "code",
      "source": [
        "!ls"
      ],
      "metadata": {
        "colab": {
          "base_uri": "https://localhost:8080/"
        },
        "id": "X68rNrz3ZrhT",
        "outputId": "4eee3c6f-e6a7-413e-ad65-dad314abe4db"
      },
      "execution_count": null,
      "outputs": [
        {
          "output_type": "stream",
          "name": "stdout",
          "text": [
            "data10.json  data15.json  data2.json  data76.json   sample_data\n",
            "data11.json  data16.json  data3.json  data8.json    sentiment1.csv\n",
            "data12.json  data17.json  data4.json  data9.json    sentiment1.json\n",
            "data13.json  data18.json  data5.json  key.json\t    sentiment2.json\n",
            "data14.json  data1.json   data6.json  request.json\n"
          ]
        }
      ]
    },
    {
      "cell_type": "markdown",
      "source": [
        "#### Data 2\n",
        "\n",
        "He has zero chance of becoming the Republican presidential nominee."
      ],
      "metadata": {
        "id": "M2lf96V_adoL"
      }
    },
    {
      "cell_type": "code",
      "source": [
        "!jq < data2.json"
      ],
      "metadata": {
        "colab": {
          "base_uri": "https://localhost:8080/"
        },
        "id": "4vta9_h4ahCw",
        "outputId": "5c9828a8-59eb-4ac1-d98f-defe9f9bd96a"
      },
      "execution_count": null,
      "outputs": [
        {
          "output_type": "stream",
          "name": "stdout",
          "text": [
            "\u001b[1;39m{\n",
            "  \u001b[0m\u001b[34;1m\"documentSentiment\"\u001b[0m\u001b[1;39m: \u001b[0m\u001b[1;39m{\n",
            "    \u001b[0m\u001b[34;1m\"magnitude\"\u001b[0m\u001b[1;39m: \u001b[0m\u001b[0;39m0.8\u001b[0m\u001b[1;39m,\n",
            "    \u001b[0m\u001b[34;1m\"score\"\u001b[0m\u001b[1;39m: \u001b[0m\u001b[0;39m-0.8\u001b[0m\u001b[1;39m\n",
            "  \u001b[1;39m}\u001b[0m\u001b[1;39m,\n",
            "  \u001b[0m\u001b[34;1m\"language\"\u001b[0m\u001b[1;39m: \u001b[0m\u001b[0;32m\"en\"\u001b[0m\u001b[1;39m,\n",
            "  \u001b[0m\u001b[34;1m\"sentences\"\u001b[0m\u001b[1;39m: \u001b[0m\u001b[1;39m[\n",
            "    \u001b[1;39m{\n",
            "      \u001b[0m\u001b[34;1m\"sentiment\"\u001b[0m\u001b[1;39m: \u001b[0m\u001b[1;39m{\n",
            "        \u001b[0m\u001b[34;1m\"magnitude\"\u001b[0m\u001b[1;39m: \u001b[0m\u001b[0;39m0.8\u001b[0m\u001b[1;39m,\n",
            "        \u001b[0m\u001b[34;1m\"score\"\u001b[0m\u001b[1;39m: \u001b[0m\u001b[0;39m-0.8\u001b[0m\u001b[1;39m\n",
            "      \u001b[1;39m}\u001b[0m\u001b[1;39m,\n",
            "      \u001b[0m\u001b[34;1m\"text\"\u001b[0m\u001b[1;39m: \u001b[0m\u001b[1;39m{\n",
            "        \u001b[0m\u001b[34;1m\"beginOffset\"\u001b[0m\u001b[1;39m: \u001b[0m\u001b[0;39m0\u001b[0m\u001b[1;39m,\n",
            "        \u001b[0m\u001b[34;1m\"content\"\u001b[0m\u001b[1;39m: \u001b[0m\u001b[0;32m\"He has zero chance of becoming the Republican presidential nominee.\"\u001b[0m\u001b[1;39m\n",
            "      \u001b[1;39m}\u001b[0m\u001b[1;39m\n",
            "    \u001b[1;39m}\u001b[0m\u001b[1;39m\n",
            "  \u001b[1;39m]\u001b[0m\u001b[1;39m\n",
            "\u001b[1;39m}\u001b[0m\n"
          ]
        }
      ]
    },
    {
      "cell_type": "code",
      "source": [
        "!jq '.documentSentiment' < data2.json > sentiment2.json"
      ],
      "metadata": {
        "id": "VNSazTjIanXS"
      },
      "execution_count": null,
      "outputs": []
    },
    {
      "cell_type": "code",
      "source": [
        "pd.read_json('sentiment2.json', typ='series')"
      ],
      "metadata": {
        "colab": {
          "base_uri": "https://localhost:8080/"
        },
        "id": "DbzTKy6xbKiz",
        "outputId": "2cd881e8-ec7f-4f56-c7be-1424f084b528"
      },
      "execution_count": null,
      "outputs": [
        {
          "output_type": "execute_result",
          "data": {
            "text/plain": [
              "magnitude    0.8\n",
              "score       -0.8\n",
              "dtype: float64"
            ]
          },
          "metadata": {},
          "execution_count": 42
        }
      ]
    },
    {
      "cell_type": "code",
      "source": [
        "df = pd.read_json('sentiment2.json', typ='series')"
      ],
      "metadata": {
        "id": "6K9dCW5ebQKA"
      },
      "execution_count": null,
      "outputs": []
    },
    {
      "cell_type": "code",
      "source": [
        "df.to_csv('sentiment2.csv')"
      ],
      "metadata": {
        "id": "pGuSOVfmbTpE"
      },
      "execution_count": null,
      "outputs": []
    },
    {
      "cell_type": "code",
      "source": [
        "!ls"
      ],
      "metadata": {
        "colab": {
          "base_uri": "https://localhost:8080/"
        },
        "id": "GU_hKy28bW_G",
        "outputId": "7b7bd21a-6c1f-4acb-c328-f415493d0141"
      },
      "execution_count": null,
      "outputs": [
        {
          "output_type": "stream",
          "name": "stdout",
          "text": [
            "data10.json  data15.json  data2.json  data76.json   sample_data\n",
            "data11.json  data16.json  data3.json  data8.json    sentiment1.csv\n",
            "data12.json  data17.json  data4.json  data9.json    sentiment1.json\n",
            "data13.json  data18.json  data5.json  key.json\t    sentiment2.csv\n",
            "data14.json  data1.json   data6.json  request.json  sentiment2.json\n"
          ]
        }
      ]
    },
    {
      "cell_type": "markdown",
      "source": [
        "#### Data 3\n",
        "\n",
        "Stop playing politics with people’s lives."
      ],
      "metadata": {
        "id": "Hdrqor1Pbk0L"
      }
    },
    {
      "cell_type": "code",
      "source": [
        "!jq < data3.json"
      ],
      "metadata": {
        "colab": {
          "base_uri": "https://localhost:8080/"
        },
        "outputId": "917e3fb5-c7b1-42ca-955f-1e468580a613",
        "id": "HZ60Ye3abk0M"
      },
      "execution_count": null,
      "outputs": [
        {
          "output_type": "stream",
          "name": "stdout",
          "text": [
            "\u001b[1;39m{\n",
            "  \u001b[0m\u001b[34;1m\"documentSentiment\"\u001b[0m\u001b[1;39m: \u001b[0m\u001b[1;39m{\n",
            "    \u001b[0m\u001b[34;1m\"magnitude\"\u001b[0m\u001b[1;39m: \u001b[0m\u001b[0;39m0.9\u001b[0m\u001b[1;39m,\n",
            "    \u001b[0m\u001b[34;1m\"score\"\u001b[0m\u001b[1;39m: \u001b[0m\u001b[0;39m-0.9\u001b[0m\u001b[1;39m\n",
            "  \u001b[1;39m}\u001b[0m\u001b[1;39m,\n",
            "  \u001b[0m\u001b[34;1m\"language\"\u001b[0m\u001b[1;39m: \u001b[0m\u001b[0;32m\"en\"\u001b[0m\u001b[1;39m,\n",
            "  \u001b[0m\u001b[34;1m\"sentences\"\u001b[0m\u001b[1;39m: \u001b[0m\u001b[1;39m[\n",
            "    \u001b[1;39m{\n",
            "      \u001b[0m\u001b[34;1m\"sentiment\"\u001b[0m\u001b[1;39m: \u001b[0m\u001b[1;39m{\n",
            "        \u001b[0m\u001b[34;1m\"magnitude\"\u001b[0m\u001b[1;39m: \u001b[0m\u001b[0;39m0.9\u001b[0m\u001b[1;39m,\n",
            "        \u001b[0m\u001b[34;1m\"score\"\u001b[0m\u001b[1;39m: \u001b[0m\u001b[0;39m-0.9\u001b[0m\u001b[1;39m\n",
            "      \u001b[1;39m}\u001b[0m\u001b[1;39m,\n",
            "      \u001b[0m\u001b[34;1m\"text\"\u001b[0m\u001b[1;39m: \u001b[0m\u001b[1;39m{\n",
            "        \u001b[0m\u001b[34;1m\"beginOffset\"\u001b[0m\u001b[1;39m: \u001b[0m\u001b[0;39m1\u001b[0m\u001b[1;39m,\n",
            "        \u001b[0m\u001b[34;1m\"content\"\u001b[0m\u001b[1;39m: \u001b[0m\u001b[0;32m\"Stop playing politics with people’s lives.\"\u001b[0m\u001b[1;39m\n",
            "      \u001b[1;39m}\u001b[0m\u001b[1;39m\n",
            "    \u001b[1;39m}\u001b[0m\u001b[1;39m\n",
            "  \u001b[1;39m]\u001b[0m\u001b[1;39m\n",
            "\u001b[1;39m}\u001b[0m\n"
          ]
        }
      ]
    },
    {
      "cell_type": "code",
      "source": [
        "!jq '.documentSentiment' < data3.json > sentiment3.json"
      ],
      "metadata": {
        "id": "HKP4QzLMbk0N"
      },
      "execution_count": null,
      "outputs": []
    },
    {
      "cell_type": "code",
      "source": [
        "pd.read_json('sentiment3.json', typ='series')"
      ],
      "metadata": {
        "colab": {
          "base_uri": "https://localhost:8080/"
        },
        "outputId": "4cc5c536-2d71-46c1-b4e5-6c5fc29a4db3",
        "id": "bk3QiAvJbk0O"
      },
      "execution_count": null,
      "outputs": [
        {
          "output_type": "execute_result",
          "data": {
            "text/plain": [
              "magnitude    0.9\n",
              "score       -0.9\n",
              "dtype: float64"
            ]
          },
          "metadata": {},
          "execution_count": 49
        }
      ]
    },
    {
      "cell_type": "code",
      "source": [
        "df = pd.read_json('sentiment3.json', typ='series')"
      ],
      "metadata": {
        "id": "rlQiVktgbk0P"
      },
      "execution_count": null,
      "outputs": []
    },
    {
      "cell_type": "code",
      "source": [
        "df.to_csv('sentiment3.csv')"
      ],
      "metadata": {
        "id": "q1joCn-Xbk0Q"
      },
      "execution_count": null,
      "outputs": []
    },
    {
      "cell_type": "code",
      "source": [
        "!ls"
      ],
      "metadata": {
        "colab": {
          "base_uri": "https://localhost:8080/"
        },
        "outputId": "2e05f517-f6c9-485d-81e3-ac43769a91b6",
        "id": "xIG5N0npbk0Q"
      },
      "execution_count": null,
      "outputs": [
        {
          "output_type": "stream",
          "name": "stdout",
          "text": [
            "data10.json  data16.json  data4.json   key.json\t\tsentiment2.json\n",
            "data11.json  data17.json  data5.json   request.json\tsentiment3.csv\n",
            "data12.json  data18.json  data6.json   sample_data\tsentiment3.json\n",
            "data13.json  data1.json   data76.json  sentiment1.csv\n",
            "data14.json  data2.json   data8.json   sentiment1.json\n",
            "data15.json  data3.json   data9.json   sentiment2.csv\n"
          ]
        }
      ]
    },
    {
      "cell_type": "markdown",
      "source": [
        "#### Data 4\n",
        "\n",
        "I hereby formally endorse George Santos to win the GOP nomination for Congress from his district."
      ],
      "metadata": {
        "id": "Hsix8Y_wb-i9"
      }
    },
    {
      "cell_type": "code",
      "source": [
        "!jq < data4.json"
      ],
      "metadata": {
        "colab": {
          "base_uri": "https://localhost:8080/"
        },
        "outputId": "3c07fb0e-a1f5-4000-e23e-d4464ebb7655",
        "id": "hW4mTohsb-i_"
      },
      "execution_count": null,
      "outputs": [
        {
          "output_type": "stream",
          "name": "stdout",
          "text": [
            "\u001b[1;39m{\n",
            "  \u001b[0m\u001b[34;1m\"documentSentiment\"\u001b[0m\u001b[1;39m: \u001b[0m\u001b[1;39m{\n",
            "    \u001b[0m\u001b[34;1m\"magnitude\"\u001b[0m\u001b[1;39m: \u001b[0m\u001b[0;39m1.3\u001b[0m\u001b[1;39m,\n",
            "    \u001b[0m\u001b[34;1m\"score\"\u001b[0m\u001b[1;39m: \u001b[0m\u001b[0;39m0.6\u001b[0m\u001b[1;39m\n",
            "  \u001b[1;39m}\u001b[0m\u001b[1;39m,\n",
            "  \u001b[0m\u001b[34;1m\"language\"\u001b[0m\u001b[1;39m: \u001b[0m\u001b[0;32m\"en\"\u001b[0m\u001b[1;39m,\n",
            "  \u001b[0m\u001b[34;1m\"sentences\"\u001b[0m\u001b[1;39m: \u001b[0m\u001b[1;39m[\n",
            "    \u001b[1;39m{\n",
            "      \u001b[0m\u001b[34;1m\"sentiment\"\u001b[0m\u001b[1;39m: \u001b[0m\u001b[1;39m{\n",
            "        \u001b[0m\u001b[34;1m\"magnitude\"\u001b[0m\u001b[1;39m: \u001b[0m\u001b[0;39m0.4\u001b[0m\u001b[1;39m,\n",
            "        \u001b[0m\u001b[34;1m\"score\"\u001b[0m\u001b[1;39m: \u001b[0m\u001b[0;39m0.4\u001b[0m\u001b[1;39m\n",
            "      \u001b[1;39m}\u001b[0m\u001b[1;39m,\n",
            "      \u001b[0m\u001b[34;1m\"text\"\u001b[0m\u001b[1;39m: \u001b[0m\u001b[1;39m{\n",
            "        \u001b[0m\u001b[34;1m\"beginOffset\"\u001b[0m\u001b[1;39m: \u001b[0m\u001b[0;39m0\u001b[0m\u001b[1;39m,\n",
            "        \u001b[0m\u001b[34;1m\"content\"\u001b[0m\u001b[1;39m: \u001b[0m\u001b[0;32m\"I hereby formally endorse George Santos to win the GOP nomination for Congress from his district.\"\u001b[0m\u001b[1;39m\n",
            "      \u001b[1;39m}\u001b[0m\u001b[1;39m\n",
            "    \u001b[1;39m}\u001b[0m\u001b[1;39m,\n",
            "    \u001b[1;39m{\n",
            "      \u001b[0m\u001b[34;1m\"sentiment\"\u001b[0m\u001b[1;39m: \u001b[0m\u001b[1;39m{\n",
            "        \u001b[0m\u001b[34;1m\"magnitude\"\u001b[0m\u001b[1;39m: \u001b[0m\u001b[0;39m0.9\u001b[0m\u001b[1;39m,\n",
            "        \u001b[0m\u001b[34;1m\"score\"\u001b[0m\u001b[1;39m: \u001b[0m\u001b[0;39m0.9\u001b[0m\u001b[1;39m\n",
            "      \u001b[1;39m}\u001b[0m\u001b[1;39m,\n",
            "      \u001b[0m\u001b[34;1m\"text\"\u001b[0m\u001b[1;39m: \u001b[0m\u001b[1;39m{\n",
            "        \u001b[0m\u001b[34;1m\"beginOffset\"\u001b[0m\u001b[1;39m: \u001b[0m\u001b[0;39m98\u001b[0m\u001b[1;39m,\n",
            "        \u001b[0m\u001b[34;1m\"content\"\u001b[0m\u001b[1;39m: \u001b[0m\u001b[0;32m\"Frankly, I can think of no better representative of the modern day GOP’s stance on honesty and integrity than George Santos.\"\u001b[0m\u001b[1;39m\n",
            "      \u001b[1;39m}\u001b[0m\u001b[1;39m\n",
            "    \u001b[1;39m}\u001b[0m\u001b[1;39m\n",
            "  \u001b[1;39m]\u001b[0m\u001b[1;39m\n",
            "\u001b[1;39m}\u001b[0m\n"
          ]
        }
      ]
    },
    {
      "cell_type": "code",
      "source": [
        "!jq '.documentSentiment' < data4.json > sentiment4.json"
      ],
      "metadata": {
        "id": "dpRrDLusb-i_"
      },
      "execution_count": null,
      "outputs": []
    },
    {
      "cell_type": "code",
      "source": [
        "pd.read_json('sentiment4.json', typ='series')"
      ],
      "metadata": {
        "colab": {
          "base_uri": "https://localhost:8080/"
        },
        "outputId": "1939ab67-48db-436d-bc0d-7e181afb2555",
        "id": "a7DMUaqhb-jA"
      },
      "execution_count": null,
      "outputs": [
        {
          "output_type": "execute_result",
          "data": {
            "text/plain": [
              "magnitude    1.3\n",
              "score        0.6\n",
              "dtype: float64"
            ]
          },
          "metadata": {},
          "execution_count": 55
        }
      ]
    },
    {
      "cell_type": "code",
      "source": [
        "df = pd.read_json('sentiment4.json', typ='series')"
      ],
      "metadata": {
        "id": "doaup8Tpb-jB"
      },
      "execution_count": null,
      "outputs": []
    },
    {
      "cell_type": "code",
      "source": [
        "df.to_csv('sentiment4.csv')"
      ],
      "metadata": {
        "id": "TDlKoXZzb-jB"
      },
      "execution_count": null,
      "outputs": []
    },
    {
      "cell_type": "code",
      "source": [
        "!ls"
      ],
      "metadata": {
        "colab": {
          "base_uri": "https://localhost:8080/"
        },
        "outputId": "83fe9885-f2bb-4e3c-891a-fa0fb6a272e4",
        "id": "gNBi0Rsnb-jC"
      },
      "execution_count": null,
      "outputs": [
        {
          "output_type": "stream",
          "name": "stdout",
          "text": [
            "data10.json  data16.json  data4.json   key.json\t\tsentiment2.json\n",
            "data11.json  data17.json  data5.json   request.json\tsentiment3.csv\n",
            "data12.json  data18.json  data6.json   sample_data\tsentiment3.json\n",
            "data13.json  data1.json   data76.json  sentiment1.csv\tsentiment4.csv\n",
            "data14.json  data2.json   data8.json   sentiment1.json\tsentiment4.json\n",
            "data15.json  data3.json   data9.json   sentiment2.csv\n"
          ]
        }
      ]
    },
    {
      "cell_type": "markdown",
      "source": [
        "#### Data 5\n",
        "\n",
        "Yeah and Biden is a whole Angel."
      ],
      "metadata": {
        "id": "8iK-OSgFcj-O"
      }
    },
    {
      "cell_type": "code",
      "source": [
        "!jq < data5.json"
      ],
      "metadata": {
        "colab": {
          "base_uri": "https://localhost:8080/"
        },
        "outputId": "f31e4164-99bc-4aef-f746-24a4e0100bd7",
        "id": "7cStPEJDcj-P"
      },
      "execution_count": null,
      "outputs": [
        {
          "output_type": "stream",
          "name": "stdout",
          "text": [
            "\u001b[1;39m{\n",
            "  \u001b[0m\u001b[34;1m\"documentSentiment\"\u001b[0m\u001b[1;39m: \u001b[0m\u001b[1;39m{\n",
            "    \u001b[0m\u001b[34;1m\"magnitude\"\u001b[0m\u001b[1;39m: \u001b[0m\u001b[0;39m0.5\u001b[0m\u001b[1;39m,\n",
            "    \u001b[0m\u001b[34;1m\"score\"\u001b[0m\u001b[1;39m: \u001b[0m\u001b[0;39m0\u001b[0m\u001b[1;39m\n",
            "  \u001b[1;39m}\u001b[0m\u001b[1;39m,\n",
            "  \u001b[0m\u001b[34;1m\"language\"\u001b[0m\u001b[1;39m: \u001b[0m\u001b[0;32m\"en\"\u001b[0m\u001b[1;39m,\n",
            "  \u001b[0m\u001b[34;1m\"sentences\"\u001b[0m\u001b[1;39m: \u001b[0m\u001b[1;39m[\n",
            "    \u001b[1;39m{\n",
            "      \u001b[0m\u001b[34;1m\"sentiment\"\u001b[0m\u001b[1;39m: \u001b[0m\u001b[1;39m{\n",
            "        \u001b[0m\u001b[34;1m\"magnitude\"\u001b[0m\u001b[1;39m: \u001b[0m\u001b[0;39m0.2\u001b[0m\u001b[1;39m,\n",
            "        \u001b[0m\u001b[34;1m\"score\"\u001b[0m\u001b[1;39m: \u001b[0m\u001b[0;39m-0.2\u001b[0m\u001b[1;39m\n",
            "      \u001b[1;39m}\u001b[0m\u001b[1;39m,\n",
            "      \u001b[0m\u001b[34;1m\"text\"\u001b[0m\u001b[1;39m: \u001b[0m\u001b[1;39m{\n",
            "        \u001b[0m\u001b[34;1m\"beginOffset\"\u001b[0m\u001b[1;39m: \u001b[0m\u001b[0;39m0\u001b[0m\u001b[1;39m,\n",
            "        \u001b[0m\u001b[34;1m\"content\"\u001b[0m\u001b[1;39m: \u001b[0m\u001b[0;32m\"Yeah and Biden is a whole Angel.\"\u001b[0m\u001b[1;39m\n",
            "      \u001b[1;39m}\u001b[0m\u001b[1;39m\n",
            "    \u001b[1;39m}\u001b[0m\u001b[1;39m,\n",
            "    \u001b[1;39m{\n",
            "      \u001b[0m\u001b[34;1m\"sentiment\"\u001b[0m\u001b[1;39m: \u001b[0m\u001b[1;39m{\n",
            "        \u001b[0m\u001b[34;1m\"magnitude\"\u001b[0m\u001b[1;39m: \u001b[0m\u001b[0;39m0.2\u001b[0m\u001b[1;39m,\n",
            "        \u001b[0m\u001b[34;1m\"score\"\u001b[0m\u001b[1;39m: \u001b[0m\u001b[0;39m0.2\u001b[0m\u001b[1;39m\n",
            "      \u001b[1;39m}\u001b[0m\u001b[1;39m,\n",
            "      \u001b[0m\u001b[34;1m\"text\"\u001b[0m\u001b[1;39m: \u001b[0m\u001b[1;39m{\n",
            "        \u001b[0m\u001b[34;1m\"beginOffset\"\u001b[0m\u001b[1;39m: \u001b[0m\u001b[0;39m33\u001b[0m\u001b[1;39m,\n",
            "        \u001b[0m\u001b[34;1m\"content\"\u001b[0m\u001b[1;39m: \u001b[0m\u001b[0;32m\"Smdh.\"\u001b[0m\u001b[1;39m\n",
            "      \u001b[1;39m}\u001b[0m\u001b[1;39m\n",
            "    \u001b[1;39m}\u001b[0m\u001b[1;39m\n",
            "  \u001b[1;39m]\u001b[0m\u001b[1;39m\n",
            "\u001b[1;39m}\u001b[0m\n"
          ]
        }
      ]
    },
    {
      "cell_type": "code",
      "source": [
        "!jq '.documentSentiment' < data5.json > sentiment5.json"
      ],
      "metadata": {
        "id": "n9WRWyz2cj-Q"
      },
      "execution_count": null,
      "outputs": []
    },
    {
      "cell_type": "code",
      "source": [
        "pd.read_json('sentiment5.json', typ='series')"
      ],
      "metadata": {
        "colab": {
          "base_uri": "https://localhost:8080/"
        },
        "outputId": "f484a73c-cf78-4773-ad21-d46e6e5ff8e8",
        "id": "sKxJQddfcj-R"
      },
      "execution_count": null,
      "outputs": [
        {
          "output_type": "execute_result",
          "data": {
            "text/plain": [
              "magnitude    0.5\n",
              "score        0.0\n",
              "dtype: float64"
            ]
          },
          "metadata": {},
          "execution_count": 61
        }
      ]
    },
    {
      "cell_type": "code",
      "source": [
        "df = pd.read_json('sentiment5.json', typ='series')"
      ],
      "metadata": {
        "id": "qY-OXIKqcj-S"
      },
      "execution_count": null,
      "outputs": []
    },
    {
      "cell_type": "code",
      "source": [
        "df.to_csv('sentiment5.csv')"
      ],
      "metadata": {
        "id": "1pLfjvDpcj-T"
      },
      "execution_count": null,
      "outputs": []
    },
    {
      "cell_type": "code",
      "source": [
        "!ls"
      ],
      "metadata": {
        "colab": {
          "base_uri": "https://localhost:8080/"
        },
        "outputId": "a5dc90d6-ab1e-40ee-aa2c-3d1db124a9be",
        "id": "V0sFbXAzcj-T"
      },
      "execution_count": null,
      "outputs": [
        {
          "output_type": "stream",
          "name": "stdout",
          "text": [
            "data10.json  data17.json  data6.json\tsentiment1.csv\t sentiment4.json\n",
            "data11.json  data18.json  data76.json\tsentiment1.json  sentiment5.csv\n",
            "data12.json  data1.json   data8.json\tsentiment2.csv\t sentiment5.json\n",
            "data13.json  data2.json   data9.json\tsentiment2.json\n",
            "data14.json  data3.json   key.json\tsentiment3.csv\n",
            "data15.json  data4.json   request.json\tsentiment3.json\n",
            "data16.json  data5.json   sample_data\tsentiment4.csv\n"
          ]
        }
      ]
    },
    {
      "cell_type": "markdown",
      "source": [
        "#### Data 6\n",
        "\n",
        "Jill Biden must be some piece of work, to play along in this charade day after day after day."
      ],
      "metadata": {
        "id": "HNeJMNtwc8ni"
      }
    },
    {
      "cell_type": "code",
      "source": [
        "!jq < data6.json"
      ],
      "metadata": {
        "colab": {
          "base_uri": "https://localhost:8080/"
        },
        "outputId": "db6d0cb7-5b64-417f-c66d-24f6e298c067",
        "id": "xkxRCoZHc8nj"
      },
      "execution_count": null,
      "outputs": [
        {
          "output_type": "stream",
          "name": "stdout",
          "text": [
            "\u001b[1;39m{\n",
            "  \u001b[0m\u001b[34;1m\"documentSentiment\"\u001b[0m\u001b[1;39m: \u001b[0m\u001b[1;39m{\n",
            "    \u001b[0m\u001b[34;1m\"magnitude\"\u001b[0m\u001b[1;39m: \u001b[0m\u001b[0;39m0.2\u001b[0m\u001b[1;39m,\n",
            "    \u001b[0m\u001b[34;1m\"score\"\u001b[0m\u001b[1;39m: \u001b[0m\u001b[0;39m-0.2\u001b[0m\u001b[1;39m\n",
            "  \u001b[1;39m}\u001b[0m\u001b[1;39m,\n",
            "  \u001b[0m\u001b[34;1m\"language\"\u001b[0m\u001b[1;39m: \u001b[0m\u001b[0;32m\"en\"\u001b[0m\u001b[1;39m,\n",
            "  \u001b[0m\u001b[34;1m\"sentences\"\u001b[0m\u001b[1;39m: \u001b[0m\u001b[1;39m[\n",
            "    \u001b[1;39m{\n",
            "      \u001b[0m\u001b[34;1m\"sentiment\"\u001b[0m\u001b[1;39m: \u001b[0m\u001b[1;39m{\n",
            "        \u001b[0m\u001b[34;1m\"magnitude\"\u001b[0m\u001b[1;39m: \u001b[0m\u001b[0;39m0.2\u001b[0m\u001b[1;39m,\n",
            "        \u001b[0m\u001b[34;1m\"score\"\u001b[0m\u001b[1;39m: \u001b[0m\u001b[0;39m-0.2\u001b[0m\u001b[1;39m\n",
            "      \u001b[1;39m}\u001b[0m\u001b[1;39m,\n",
            "      \u001b[0m\u001b[34;1m\"text\"\u001b[0m\u001b[1;39m: \u001b[0m\u001b[1;39m{\n",
            "        \u001b[0m\u001b[34;1m\"beginOffset\"\u001b[0m\u001b[1;39m: \u001b[0m\u001b[0;39m0\u001b[0m\u001b[1;39m,\n",
            "        \u001b[0m\u001b[34;1m\"content\"\u001b[0m\u001b[1;39m: \u001b[0m\u001b[0;32m\"Jill Biden must be some piece of work, to play along in this charade day after day after day.\"\u001b[0m\u001b[1;39m\n",
            "      \u001b[1;39m}\u001b[0m\u001b[1;39m\n",
            "    \u001b[1;39m}\u001b[0m\u001b[1;39m\n",
            "  \u001b[1;39m]\u001b[0m\u001b[1;39m\n",
            "\u001b[1;39m}\u001b[0m\n"
          ]
        }
      ]
    },
    {
      "cell_type": "code",
      "source": [
        "!jq '.documentSentiment' < data6.json > sentiment6.json"
      ],
      "metadata": {
        "id": "JnnNrMtEc8nk"
      },
      "execution_count": null,
      "outputs": []
    },
    {
      "cell_type": "code",
      "source": [
        "pd.read_json('sentiment6.json', typ='series')"
      ],
      "metadata": {
        "colab": {
          "base_uri": "https://localhost:8080/"
        },
        "outputId": "a28f4811-930a-4e91-ff00-8e68c3619075",
        "id": "Er9YtLLfc8nk"
      },
      "execution_count": null,
      "outputs": [
        {
          "output_type": "execute_result",
          "data": {
            "text/plain": [
              "magnitude    0.2\n",
              "score       -0.2\n",
              "dtype: float64"
            ]
          },
          "metadata": {},
          "execution_count": 67
        }
      ]
    },
    {
      "cell_type": "code",
      "source": [
        "df = pd.read_json('sentiment6.json', typ='series')"
      ],
      "metadata": {
        "id": "GWAJGsHLc8nl"
      },
      "execution_count": null,
      "outputs": []
    },
    {
      "cell_type": "code",
      "source": [
        "df.to_csv('sentiment6.csv')"
      ],
      "metadata": {
        "id": "dB_8uIn3c8nm"
      },
      "execution_count": null,
      "outputs": []
    },
    {
      "cell_type": "code",
      "source": [
        "!ls"
      ],
      "metadata": {
        "colab": {
          "base_uri": "https://localhost:8080/"
        },
        "outputId": "0b1c8e37-0716-4e9d-e56d-46a319e8f07e",
        "id": "cmfXugewc8nn"
      },
      "execution_count": null,
      "outputs": [
        {
          "output_type": "stream",
          "name": "stdout",
          "text": [
            "data10.json  data17.json  data6.json\tsentiment1.csv\t sentiment4.json\n",
            "data11.json  data18.json  data76.json\tsentiment1.json  sentiment5.csv\n",
            "data12.json  data1.json   data8.json\tsentiment2.csv\t sentiment5.json\n",
            "data13.json  data2.json   data9.json\tsentiment2.json  sentiment6.csv\n",
            "data14.json  data3.json   key.json\tsentiment3.csv\t sentiment6.json\n",
            "data15.json  data4.json   request.json\tsentiment3.json\n",
            "data16.json  data5.json   sample_data\tsentiment4.csv\n"
          ]
        }
      ]
    },
    {
      "cell_type": "markdown",
      "source": [
        "#### Data 7\n",
        "\n",
        "BREAKING: GoP announces that in keeping with their desire to move the party and America backwards. That the 2024 presidential nominee will be selected via Gladiatorial Combat: To the Death! Standby for arena construction announcements and battle dates."
      ],
      "metadata": {
        "id": "S9_BAZMzdLiV"
      }
    },
    {
      "cell_type": "code",
      "source": [
        "!jq < data76.json"
      ],
      "metadata": {
        "colab": {
          "base_uri": "https://localhost:8080/"
        },
        "outputId": "e01db18a-a730-45d2-f45f-95eab2e63c3d",
        "id": "6JPr1j-EdLiX"
      },
      "execution_count": null,
      "outputs": [
        {
          "output_type": "stream",
          "name": "stdout",
          "text": [
            "\u001b[1;39m{\n",
            "  \u001b[0m\u001b[34;1m\"documentSentiment\"\u001b[0m\u001b[1;39m: \u001b[0m\u001b[1;39m{\n",
            "    \u001b[0m\u001b[34;1m\"magnitude\"\u001b[0m\u001b[1;39m: \u001b[0m\u001b[0;39m0.7\u001b[0m\u001b[1;39m,\n",
            "    \u001b[0m\u001b[34;1m\"score\"\u001b[0m\u001b[1;39m: \u001b[0m\u001b[0;39m-0.1\u001b[0m\u001b[1;39m\n",
            "  \u001b[1;39m}\u001b[0m\u001b[1;39m,\n",
            "  \u001b[0m\u001b[34;1m\"language\"\u001b[0m\u001b[1;39m: \u001b[0m\u001b[0;32m\"en\"\u001b[0m\u001b[1;39m,\n",
            "  \u001b[0m\u001b[34;1m\"sentences\"\u001b[0m\u001b[1;39m: \u001b[0m\u001b[1;39m[\n",
            "    \u001b[1;39m{\n",
            "      \u001b[0m\u001b[34;1m\"sentiment\"\u001b[0m\u001b[1;39m: \u001b[0m\u001b[1;39m{\n",
            "        \u001b[0m\u001b[34;1m\"magnitude\"\u001b[0m\u001b[1;39m: \u001b[0m\u001b[0;39m0.5\u001b[0m\u001b[1;39m,\n",
            "        \u001b[0m\u001b[34;1m\"score\"\u001b[0m\u001b[1;39m: \u001b[0m\u001b[0;39m-0.5\u001b[0m\u001b[1;39m\n",
            "      \u001b[1;39m}\u001b[0m\u001b[1;39m,\n",
            "      \u001b[0m\u001b[34;1m\"text\"\u001b[0m\u001b[1;39m: \u001b[0m\u001b[1;39m{\n",
            "        \u001b[0m\u001b[34;1m\"beginOffset\"\u001b[0m\u001b[1;39m: \u001b[0m\u001b[0;39m0\u001b[0m\u001b[1;39m,\n",
            "        \u001b[0m\u001b[34;1m\"content\"\u001b[0m\u001b[1;39m: \u001b[0m\u001b[0;32m\"BREAKING: GoP announces that in keeping with their desire to move the party and America backwards.\"\u001b[0m\u001b[1;39m\n",
            "      \u001b[1;39m}\u001b[0m\u001b[1;39m\n",
            "    \u001b[1;39m}\u001b[0m\u001b[1;39m,\n",
            "    \u001b[1;39m{\n",
            "      \u001b[0m\u001b[34;1m\"sentiment\"\u001b[0m\u001b[1;39m: \u001b[0m\u001b[1;39m{\n",
            "        \u001b[0m\u001b[34;1m\"magnitude\"\u001b[0m\u001b[1;39m: \u001b[0m\u001b[0;39m0\u001b[0m\u001b[1;39m,\n",
            "        \u001b[0m\u001b[34;1m\"score\"\u001b[0m\u001b[1;39m: \u001b[0m\u001b[0;39m0\u001b[0m\u001b[1;39m\n",
            "      \u001b[1;39m}\u001b[0m\u001b[1;39m,\n",
            "      \u001b[0m\u001b[34;1m\"text\"\u001b[0m\u001b[1;39m: \u001b[0m\u001b[1;39m{\n",
            "        \u001b[0m\u001b[34;1m\"beginOffset\"\u001b[0m\u001b[1;39m: \u001b[0m\u001b[0;39m99\u001b[0m\u001b[1;39m,\n",
            "        \u001b[0m\u001b[34;1m\"content\"\u001b[0m\u001b[1;39m: \u001b[0m\u001b[0;32m\"That the 2024 presidential nominee will be selected via Gladiatorial Combat: To the Death!\"\u001b[0m\u001b[1;39m\n",
            "      \u001b[1;39m}\u001b[0m\u001b[1;39m\n",
            "    \u001b[1;39m}\u001b[0m\u001b[1;39m,\n",
            "    \u001b[1;39m{\n",
            "      \u001b[0m\u001b[34;1m\"sentiment\"\u001b[0m\u001b[1;39m: \u001b[0m\u001b[1;39m{\n",
            "        \u001b[0m\u001b[34;1m\"magnitude\"\u001b[0m\u001b[1;39m: \u001b[0m\u001b[0;39m0.1\u001b[0m\u001b[1;39m,\n",
            "        \u001b[0m\u001b[34;1m\"score\"\u001b[0m\u001b[1;39m: \u001b[0m\u001b[0;39m0.1\u001b[0m\u001b[1;39m\n",
            "      \u001b[1;39m}\u001b[0m\u001b[1;39m,\n",
            "      \u001b[0m\u001b[34;1m\"text\"\u001b[0m\u001b[1;39m: \u001b[0m\u001b[1;39m{\n",
            "        \u001b[0m\u001b[34;1m\"beginOffset\"\u001b[0m\u001b[1;39m: \u001b[0m\u001b[0;39m190\u001b[0m\u001b[1;39m,\n",
            "        \u001b[0m\u001b[34;1m\"content\"\u001b[0m\u001b[1;39m: \u001b[0m\u001b[0;32m\"Standby for arena construction announcements and battle dates.\"\u001b[0m\u001b[1;39m\n",
            "      \u001b[1;39m}\u001b[0m\u001b[1;39m\n",
            "    \u001b[1;39m}\u001b[0m\u001b[1;39m\n",
            "  \u001b[1;39m]\u001b[0m\u001b[1;39m\n",
            "\u001b[1;39m}\u001b[0m\n"
          ]
        }
      ]
    },
    {
      "cell_type": "code",
      "source": [
        "!jq '.documentSentiment' < data76.json > sentiment76.json"
      ],
      "metadata": {
        "id": "elat7QjrdLiY"
      },
      "execution_count": null,
      "outputs": []
    },
    {
      "cell_type": "code",
      "source": [
        "pd.read_json('sentiment76.json', typ='series')"
      ],
      "metadata": {
        "colab": {
          "base_uri": "https://localhost:8080/"
        },
        "outputId": "568aa88d-4118-4a8d-a044-34153125eaba",
        "id": "x0bYjSeAdLiY"
      },
      "execution_count": null,
      "outputs": [
        {
          "output_type": "execute_result",
          "data": {
            "text/plain": [
              "magnitude    0.7\n",
              "score       -0.1\n",
              "dtype: float64"
            ]
          },
          "metadata": {},
          "execution_count": 73
        }
      ]
    },
    {
      "cell_type": "code",
      "source": [
        "df = pd.read_json('sentiment76.json', typ='series')"
      ],
      "metadata": {
        "id": "psbQkWSgdLiZ"
      },
      "execution_count": null,
      "outputs": []
    },
    {
      "cell_type": "code",
      "source": [
        "df.to_csv('sentiment76.csv')"
      ],
      "metadata": {
        "id": "1-9R7DZbdLia"
      },
      "execution_count": null,
      "outputs": []
    },
    {
      "cell_type": "code",
      "source": [
        "!ls"
      ],
      "metadata": {
        "colab": {
          "base_uri": "https://localhost:8080/"
        },
        "outputId": "8e28dcd5-898a-4f8c-d798-7f156bd7110a",
        "id": "XsI_wqMqdLia"
      },
      "execution_count": null,
      "outputs": [
        {
          "output_type": "stream",
          "name": "stdout",
          "text": [
            "data10.json  data17.json  data6.json\tsentiment1.csv\t sentiment4.json\n",
            "data11.json  data18.json  data76.json\tsentiment1.json  sentiment5.csv\n",
            "data12.json  data1.json   data8.json\tsentiment2.csv\t sentiment5.json\n",
            "data13.json  data2.json   data9.json\tsentiment2.json  sentiment6.csv\n",
            "data14.json  data3.json   key.json\tsentiment3.csv\t sentiment6.json\n",
            "data15.json  data4.json   request.json\tsentiment3.json  sentiment76.csv\n",
            "data16.json  data5.json   sample_data\tsentiment4.csv\t sentiment76.json\n"
          ]
        }
      ]
    },
    {
      "cell_type": "markdown",
      "source": [
        "#### Data 8\n",
        "\n",
        "I think the GOPs presidential nominee will be an AR-15.If corporations are individuals so too can be guns."
      ],
      "metadata": {
        "id": "O-XUrKT4dqco"
      }
    },
    {
      "cell_type": "code",
      "source": [
        "!jq < data8.json"
      ],
      "metadata": {
        "colab": {
          "base_uri": "https://localhost:8080/"
        },
        "outputId": "6432f5af-fb6d-474a-9b8d-2ea92ec3ad41",
        "id": "-8tGM4NFdqdD"
      },
      "execution_count": null,
      "outputs": [
        {
          "output_type": "stream",
          "name": "stdout",
          "text": [
            "\u001b[1;39m{\n",
            "  \u001b[0m\u001b[34;1m\"documentSentiment\"\u001b[0m\u001b[1;39m: \u001b[0m\u001b[1;39m{\n",
            "    \u001b[0m\u001b[34;1m\"magnitude\"\u001b[0m\u001b[1;39m: \u001b[0m\u001b[0;39m0.1\u001b[0m\u001b[1;39m,\n",
            "    \u001b[0m\u001b[34;1m\"score\"\u001b[0m\u001b[1;39m: \u001b[0m\u001b[0;39m0\u001b[0m\u001b[1;39m\n",
            "  \u001b[1;39m}\u001b[0m\u001b[1;39m,\n",
            "  \u001b[0m\u001b[34;1m\"language\"\u001b[0m\u001b[1;39m: \u001b[0m\u001b[0;32m\"en\"\u001b[0m\u001b[1;39m,\n",
            "  \u001b[0m\u001b[34;1m\"sentences\"\u001b[0m\u001b[1;39m: \u001b[0m\u001b[1;39m[\n",
            "    \u001b[1;39m{\n",
            "      \u001b[0m\u001b[34;1m\"sentiment\"\u001b[0m\u001b[1;39m: \u001b[0m\u001b[1;39m{\n",
            "        \u001b[0m\u001b[34;1m\"magnitude\"\u001b[0m\u001b[1;39m: \u001b[0m\u001b[0;39m0\u001b[0m\u001b[1;39m,\n",
            "        \u001b[0m\u001b[34;1m\"score\"\u001b[0m\u001b[1;39m: \u001b[0m\u001b[0;39m0\u001b[0m\u001b[1;39m\n",
            "      \u001b[1;39m}\u001b[0m\u001b[1;39m,\n",
            "      \u001b[0m\u001b[34;1m\"text\"\u001b[0m\u001b[1;39m: \u001b[0m\u001b[1;39m{\n",
            "        \u001b[0m\u001b[34;1m\"beginOffset\"\u001b[0m\u001b[1;39m: \u001b[0m\u001b[0;39m0\u001b[0m\u001b[1;39m,\n",
            "        \u001b[0m\u001b[34;1m\"content\"\u001b[0m\u001b[1;39m: \u001b[0m\u001b[0;32m\"I think the GOPs presidential nominee will be an AR-15.\"\u001b[0m\u001b[1;39m\n",
            "      \u001b[1;39m}\u001b[0m\u001b[1;39m\n",
            "    \u001b[1;39m}\u001b[0m\u001b[1;39m,\n",
            "    \u001b[1;39m{\n",
            "      \u001b[0m\u001b[34;1m\"sentiment\"\u001b[0m\u001b[1;39m: \u001b[0m\u001b[1;39m{\n",
            "        \u001b[0m\u001b[34;1m\"magnitude\"\u001b[0m\u001b[1;39m: \u001b[0m\u001b[0;39m0.1\u001b[0m\u001b[1;39m,\n",
            "        \u001b[0m\u001b[34;1m\"score\"\u001b[0m\u001b[1;39m: \u001b[0m\u001b[0;39m-0.1\u001b[0m\u001b[1;39m\n",
            "      \u001b[1;39m}\u001b[0m\u001b[1;39m,\n",
            "      \u001b[0m\u001b[34;1m\"text\"\u001b[0m\u001b[1;39m: \u001b[0m\u001b[1;39m{\n",
            "        \u001b[0m\u001b[34;1m\"beginOffset\"\u001b[0m\u001b[1;39m: \u001b[0m\u001b[0;39m56\u001b[0m\u001b[1;39m,\n",
            "        \u001b[0m\u001b[34;1m\"content\"\u001b[0m\u001b[1;39m: \u001b[0m\u001b[0;32m\"If corporations are individuals so too can be guns.\"\u001b[0m\u001b[1;39m\n",
            "      \u001b[1;39m}\u001b[0m\u001b[1;39m\n",
            "    \u001b[1;39m}\u001b[0m\u001b[1;39m\n",
            "  \u001b[1;39m]\u001b[0m\u001b[1;39m\n",
            "\u001b[1;39m}\u001b[0m\n"
          ]
        }
      ]
    },
    {
      "cell_type": "code",
      "source": [
        "!jq '.documentSentiment' < data8.json > sentiment8.json"
      ],
      "metadata": {
        "id": "4_R7o5-YdqdE"
      },
      "execution_count": null,
      "outputs": []
    },
    {
      "cell_type": "code",
      "source": [
        "pd.read_json('sentiment8.json', typ='series')"
      ],
      "metadata": {
        "colab": {
          "base_uri": "https://localhost:8080/"
        },
        "outputId": "145ffb4e-8214-4f4f-ec27-616264fef501",
        "id": "fOzLwsU_dqdF"
      },
      "execution_count": null,
      "outputs": [
        {
          "output_type": "execute_result",
          "data": {
            "text/plain": [
              "magnitude    0.1\n",
              "score        0.0\n",
              "dtype: float64"
            ]
          },
          "metadata": {},
          "execution_count": 79
        }
      ]
    },
    {
      "cell_type": "code",
      "source": [
        "df = pd.read_json('sentiment8.json', typ='series')"
      ],
      "metadata": {
        "id": "DiWM-U8EdqdF"
      },
      "execution_count": null,
      "outputs": []
    },
    {
      "cell_type": "code",
      "source": [
        "df.to_csv('sentiment8.csv')"
      ],
      "metadata": {
        "id": "55xzXlXjdqdG"
      },
      "execution_count": null,
      "outputs": []
    },
    {
      "cell_type": "code",
      "source": [
        "!ls"
      ],
      "metadata": {
        "colab": {
          "base_uri": "https://localhost:8080/"
        },
        "outputId": "27abe403-1047-4c7f-cc41-d1b532b900d0",
        "id": "huVN07rddqdG"
      },
      "execution_count": null,
      "outputs": [
        {
          "output_type": "stream",
          "name": "stdout",
          "text": [
            "data10.json  data18.json  data8.json\t   sentiment2.json  sentiment6.json\n",
            "data11.json  data1.json   data9.json\t   sentiment3.csv   sentiment76.csv\n",
            "data12.json  data2.json   key.json\t   sentiment3.json  sentiment76.json\n",
            "data13.json  data3.json   request.json\t   sentiment4.csv   sentiment8.csv\n",
            "data14.json  data4.json   sample_data\t   sentiment4.json  sentiment8.json\n",
            "data15.json  data5.json   sentiment1.csv   sentiment5.csv\n",
            "data16.json  data6.json   sentiment1.json  sentiment5.json\n",
            "data17.json  data76.json  sentiment2.csv   sentiment6.csv\n"
          ]
        }
      ]
    },
    {
      "cell_type": "markdown",
      "source": [
        "#### Data 9\n",
        "\n",
        "Breaking In a surprise announcement this morning, Mr. Potato Head has launched an exploratory committee with intentions of running for the 2024 Republican Presidential Nominee Mr. Head: Mrs. Potato Head will be my Vice President."
      ],
      "metadata": {
        "id": "ZQJ81qVbeU6P"
      }
    },
    {
      "cell_type": "code",
      "source": [
        "!jq < data9.json"
      ],
      "metadata": {
        "colab": {
          "base_uri": "https://localhost:8080/"
        },
        "outputId": "5e6234cc-9e18-45f0-9385-ff4d09750d01",
        "id": "ft4d_0oYeU6Q"
      },
      "execution_count": null,
      "outputs": [
        {
          "output_type": "stream",
          "name": "stdout",
          "text": [
            "\u001b[1;39m{\n",
            "  \u001b[0m\u001b[34;1m\"documentSentiment\"\u001b[0m\u001b[1;39m: \u001b[0m\u001b[1;39m{\n",
            "    \u001b[0m\u001b[34;1m\"magnitude\"\u001b[0m\u001b[1;39m: \u001b[0m\u001b[0;39m0.1\u001b[0m\u001b[1;39m,\n",
            "    \u001b[0m\u001b[34;1m\"score\"\u001b[0m\u001b[1;39m: \u001b[0m\u001b[0;39m0\u001b[0m\u001b[1;39m\n",
            "  \u001b[1;39m}\u001b[0m\u001b[1;39m,\n",
            "  \u001b[0m\u001b[34;1m\"language\"\u001b[0m\u001b[1;39m: \u001b[0m\u001b[0;32m\"en\"\u001b[0m\u001b[1;39m,\n",
            "  \u001b[0m\u001b[34;1m\"sentences\"\u001b[0m\u001b[1;39m: \u001b[0m\u001b[1;39m[\n",
            "    \u001b[1;39m{\n",
            "      \u001b[0m\u001b[34;1m\"sentiment\"\u001b[0m\u001b[1;39m: \u001b[0m\u001b[1;39m{\n",
            "        \u001b[0m\u001b[34;1m\"magnitude\"\u001b[0m\u001b[1;39m: \u001b[0m\u001b[0;39m0\u001b[0m\u001b[1;39m,\n",
            "        \u001b[0m\u001b[34;1m\"score\"\u001b[0m\u001b[1;39m: \u001b[0m\u001b[0;39m0\u001b[0m\u001b[1;39m\n",
            "      \u001b[1;39m}\u001b[0m\u001b[1;39m,\n",
            "      \u001b[0m\u001b[34;1m\"text\"\u001b[0m\u001b[1;39m: \u001b[0m\u001b[1;39m{\n",
            "        \u001b[0m\u001b[34;1m\"beginOffset\"\u001b[0m\u001b[1;39m: \u001b[0m\u001b[0;39m0\u001b[0m\u001b[1;39m,\n",
            "        \u001b[0m\u001b[34;1m\"content\"\u001b[0m\u001b[1;39m: \u001b[0m\u001b[0;32m\"Breaking In a surprise announcement this morning, Mr. Potato Head has launched an exploratory committee with intentions of running for the 2024 Republican Presidential Nominee Mr. Head: Mrs. Potato Head will be my Vice President.\"\u001b[0m\u001b[1;39m\n",
            "      \u001b[1;39m}\u001b[0m\u001b[1;39m\n",
            "    \u001b[1;39m}\u001b[0m\u001b[1;39m,\n",
            "    \u001b[1;39m{\n",
            "      \u001b[0m\u001b[34;1m\"sentiment\"\u001b[0m\u001b[1;39m: \u001b[0m\u001b[1;39m{\n",
            "        \u001b[0m\u001b[34;1m\"magnitude\"\u001b[0m\u001b[1;39m: \u001b[0m\u001b[0;39m0.1\u001b[0m\u001b[1;39m,\n",
            "        \u001b[0m\u001b[34;1m\"score\"\u001b[0m\u001b[1;39m: \u001b[0m\u001b[0;39m-0.1\u001b[0m\u001b[1;39m\n",
            "      \u001b[1;39m}\u001b[0m\u001b[1;39m,\n",
            "      \u001b[0m\u001b[34;1m\"text\"\u001b[0m\u001b[1;39m: \u001b[0m\u001b[1;39m{\n",
            "        \u001b[0m\u001b[34;1m\"beginOffset\"\u001b[0m\u001b[1;39m: \u001b[0m\u001b[0;39m230\u001b[0m\u001b[1;39m,\n",
            "        \u001b[0m\u001b[34;1m\"content\"\u001b[0m\u001b[1;39m: \u001b[0m\u001b[0;32m\"Our platform will be to move DC to Idaho.\"\u001b[0m\u001b[1;39m\n",
            "      \u001b[1;39m}\u001b[0m\u001b[1;39m\n",
            "    \u001b[1;39m}\u001b[0m\u001b[1;39m\n",
            "  \u001b[1;39m]\u001b[0m\u001b[1;39m\n",
            "\u001b[1;39m}\u001b[0m\n"
          ]
        }
      ]
    },
    {
      "cell_type": "code",
      "source": [
        "!jq '.documentSentiment' < data9.json > sentiment9.json"
      ],
      "metadata": {
        "id": "6H6mZI3JeU6R"
      },
      "execution_count": null,
      "outputs": []
    },
    {
      "cell_type": "code",
      "source": [
        "pd.read_json('sentiment9.json', typ='series')"
      ],
      "metadata": {
        "colab": {
          "base_uri": "https://localhost:8080/"
        },
        "outputId": "bb926358-ad5d-49b9-c392-dd4a8b6556ee",
        "id": "NEZh5Rs5eU6S"
      },
      "execution_count": null,
      "outputs": [
        {
          "output_type": "execute_result",
          "data": {
            "text/plain": [
              "magnitude    0.1\n",
              "score        0.0\n",
              "dtype: float64"
            ]
          },
          "metadata": {},
          "execution_count": 91
        }
      ]
    },
    {
      "cell_type": "code",
      "source": [
        "df = pd.read_json('sentiment9.json', typ='series')"
      ],
      "metadata": {
        "id": "TL8_DChYeU6S"
      },
      "execution_count": null,
      "outputs": []
    },
    {
      "cell_type": "code",
      "source": [
        "df.to_csv('sentiment9.csv')"
      ],
      "metadata": {
        "id": "F17lwsUaeU6T"
      },
      "execution_count": null,
      "outputs": []
    },
    {
      "cell_type": "code",
      "source": [
        "!ls"
      ],
      "metadata": {
        "colab": {
          "base_uri": "https://localhost:8080/"
        },
        "outputId": "e33e29ec-0abc-4af9-f0d9-35a8c5aaaf0f",
        "id": "mp1dpGw7eU6T"
      },
      "execution_count": null,
      "outputs": [
        {
          "output_type": "stream",
          "name": "stdout",
          "text": [
            "data10.json  data18.json  data8.json\t   sentiment2.json  sentiment6.json\n",
            "data11.json  data1.json   data9.json\t   sentiment3.csv   sentiment76.csv\n",
            "data12.json  data2.json   key.json\t   sentiment3.json  sentiment76.json\n",
            "data13.json  data3.json   request.json\t   sentiment4.csv   sentiment8.csv\n",
            "data14.json  data4.json   sample_data\t   sentiment4.json  sentiment8.json\n",
            "data15.json  data5.json   sentiment1.csv   sentiment5.csv   sentiment9.csv\n",
            "data16.json  data6.json   sentiment1.json  sentiment5.json  sentiment9.json\n",
            "data17.json  data76.json  sentiment2.csv   sentiment6.csv\n"
          ]
        }
      ]
    },
    {
      "cell_type": "markdown",
      "source": [
        "#### Data 10\n",
        "\n",
        "Our future 4X Republican Presidential nominee winner (loser but he’ll insist he won) is leading the way."
      ],
      "metadata": {
        "id": "_5i7Ufzke4tB"
      }
    },
    {
      "cell_type": "code",
      "source": [
        "!jq < data10.json"
      ],
      "metadata": {
        "colab": {
          "base_uri": "https://localhost:8080/"
        },
        "outputId": "3ada49f6-a423-44e3-ad2e-63f543666e92",
        "id": "WC-Kqs-ge4td"
      },
      "execution_count": null,
      "outputs": [
        {
          "output_type": "stream",
          "name": "stdout",
          "text": [
            "\u001b[1;39m{\n",
            "  \u001b[0m\u001b[34;1m\"documentSentiment\"\u001b[0m\u001b[1;39m: \u001b[0m\u001b[1;39m{\n",
            "    \u001b[0m\u001b[34;1m\"magnitude\"\u001b[0m\u001b[1;39m: \u001b[0m\u001b[0;39m0\u001b[0m\u001b[1;39m,\n",
            "    \u001b[0m\u001b[34;1m\"score\"\u001b[0m\u001b[1;39m: \u001b[0m\u001b[0;39m0\u001b[0m\u001b[1;39m\n",
            "  \u001b[1;39m}\u001b[0m\u001b[1;39m,\n",
            "  \u001b[0m\u001b[34;1m\"language\"\u001b[0m\u001b[1;39m: \u001b[0m\u001b[0;32m\"en\"\u001b[0m\u001b[1;39m,\n",
            "  \u001b[0m\u001b[34;1m\"sentences\"\u001b[0m\u001b[1;39m: \u001b[0m\u001b[1;39m[\n",
            "    \u001b[1;39m{\n",
            "      \u001b[0m\u001b[34;1m\"sentiment\"\u001b[0m\u001b[1;39m: \u001b[0m\u001b[1;39m{\n",
            "        \u001b[0m\u001b[34;1m\"magnitude\"\u001b[0m\u001b[1;39m: \u001b[0m\u001b[0;39m0\u001b[0m\u001b[1;39m,\n",
            "        \u001b[0m\u001b[34;1m\"score\"\u001b[0m\u001b[1;39m: \u001b[0m\u001b[0;39m0\u001b[0m\u001b[1;39m\n",
            "      \u001b[1;39m}\u001b[0m\u001b[1;39m,\n",
            "      \u001b[0m\u001b[34;1m\"text\"\u001b[0m\u001b[1;39m: \u001b[0m\u001b[1;39m{\n",
            "        \u001b[0m\u001b[34;1m\"beginOffset\"\u001b[0m\u001b[1;39m: \u001b[0m\u001b[0;39m0\u001b[0m\u001b[1;39m,\n",
            "        \u001b[0m\u001b[34;1m\"content\"\u001b[0m\u001b[1;39m: \u001b[0m\u001b[0;32m\"Our future 4X Republican Presidential nominee winner (loser but he’ll insist he won) is leading the way.\"\u001b[0m\u001b[1;39m\n",
            "      \u001b[1;39m}\u001b[0m\u001b[1;39m\n",
            "    \u001b[1;39m}\u001b[0m\u001b[1;39m\n",
            "  \u001b[1;39m]\u001b[0m\u001b[1;39m\n",
            "\u001b[1;39m}\u001b[0m\n"
          ]
        }
      ]
    },
    {
      "cell_type": "code",
      "source": [
        "!jq '.documentSentiment' < data10.json > sentiment10.json"
      ],
      "metadata": {
        "id": "0kSE9H-Le4td"
      },
      "execution_count": null,
      "outputs": []
    },
    {
      "cell_type": "code",
      "source": [
        "pd.read_json('sentiment10.json', typ='series')"
      ],
      "metadata": {
        "colab": {
          "base_uri": "https://localhost:8080/"
        },
        "outputId": "45cafd78-ba46-4cc5-9a0f-bbf539583138",
        "id": "6A-Dzb5xe4te"
      },
      "execution_count": null,
      "outputs": [
        {
          "output_type": "execute_result",
          "data": {
            "text/plain": [
              "magnitude    0\n",
              "score        0\n",
              "dtype: int64"
            ]
          },
          "metadata": {},
          "execution_count": 97
        }
      ]
    },
    {
      "cell_type": "code",
      "source": [
        "df = pd.read_json('sentiment10.json', typ='series')"
      ],
      "metadata": {
        "id": "7aggZ-65e4tf"
      },
      "execution_count": null,
      "outputs": []
    },
    {
      "cell_type": "code",
      "source": [
        "df.to_csv('sentiment10.csv')"
      ],
      "metadata": {
        "id": "6tkbqssLe4tf"
      },
      "execution_count": null,
      "outputs": []
    },
    {
      "cell_type": "code",
      "source": [
        "!ls"
      ],
      "metadata": {
        "colab": {
          "base_uri": "https://localhost:8080/"
        },
        "outputId": "29ee4635-7c48-4503-d9e3-6cd240255d65",
        "id": "cgRv-mrCe4tg"
      },
      "execution_count": null,
      "outputs": [
        {
          "output_type": "stream",
          "name": "stdout",
          "text": [
            "data10.json  data1.json   key.json\t    sentiment3.csv   sentiment76.json\n",
            "data11.json  data2.json   request.json\t    sentiment3.json  sentiment8.csv\n",
            "data12.json  data3.json   sample_data\t    sentiment4.csv   sentiment8.json\n",
            "data13.json  data4.json   sentiment10.csv   sentiment4.json  sentiment9.csv\n",
            "data14.json  data5.json   sentiment10.json  sentiment5.csv   sentiment9.json\n",
            "data15.json  data6.json   sentiment1.csv    sentiment5.json\n",
            "data16.json  data76.json  sentiment1.json   sentiment6.csv\n",
            "data17.json  data8.json   sentiment2.csv    sentiment6.json\n",
            "data18.json  data9.json   sentiment2.json   sentiment76.csv\n"
          ]
        }
      ]
    },
    {
      "cell_type": "markdown",
      "source": [
        "#### Data 11\n",
        "\n",
        "Wow, can't wait to see which corrupt politician gets caught next. It's like Which one of you is gonna be the bad guy today?"
      ],
      "metadata": {
        "id": "rG-IqmfXfebr"
      }
    },
    {
      "cell_type": "code",
      "source": [
        "!jq < data11.json"
      ],
      "metadata": {
        "colab": {
          "base_uri": "https://localhost:8080/"
        },
        "outputId": "3568ac21-afcd-47a5-dae0-1f1a0f9d47d1",
        "id": "9Z5YOd1KfecH"
      },
      "execution_count": null,
      "outputs": [
        {
          "output_type": "stream",
          "name": "stdout",
          "text": [
            "\u001b[1;39m{\n",
            "  \u001b[0m\u001b[34;1m\"documentSentiment\"\u001b[0m\u001b[1;39m: \u001b[0m\u001b[1;39m{\n",
            "    \u001b[0m\u001b[34;1m\"magnitude\"\u001b[0m\u001b[1;39m: \u001b[0m\u001b[0;39m1.2\u001b[0m\u001b[1;39m,\n",
            "    \u001b[0m\u001b[34;1m\"score\"\u001b[0m\u001b[1;39m: \u001b[0m\u001b[0;39m-0.6\u001b[0m\u001b[1;39m\n",
            "  \u001b[1;39m}\u001b[0m\u001b[1;39m,\n",
            "  \u001b[0m\u001b[34;1m\"language\"\u001b[0m\u001b[1;39m: \u001b[0m\u001b[0;32m\"en\"\u001b[0m\u001b[1;39m,\n",
            "  \u001b[0m\u001b[34;1m\"sentences\"\u001b[0m\u001b[1;39m: \u001b[0m\u001b[1;39m[\n",
            "    \u001b[1;39m{\n",
            "      \u001b[0m\u001b[34;1m\"sentiment\"\u001b[0m\u001b[1;39m: \u001b[0m\u001b[1;39m{\n",
            "        \u001b[0m\u001b[34;1m\"magnitude\"\u001b[0m\u001b[1;39m: \u001b[0m\u001b[0;39m0.5\u001b[0m\u001b[1;39m,\n",
            "        \u001b[0m\u001b[34;1m\"score\"\u001b[0m\u001b[1;39m: \u001b[0m\u001b[0;39m-0.5\u001b[0m\u001b[1;39m\n",
            "      \u001b[1;39m}\u001b[0m\u001b[1;39m,\n",
            "      \u001b[0m\u001b[34;1m\"text\"\u001b[0m\u001b[1;39m: \u001b[0m\u001b[1;39m{\n",
            "        \u001b[0m\u001b[34;1m\"beginOffset\"\u001b[0m\u001b[1;39m: \u001b[0m\u001b[0;39m0\u001b[0m\u001b[1;39m,\n",
            "        \u001b[0m\u001b[34;1m\"content\"\u001b[0m\u001b[1;39m: \u001b[0m\u001b[0;32m\"Wow, can't wait to see which corrupt politician gets caught next.\"\u001b[0m\u001b[1;39m\n",
            "      \u001b[1;39m}\u001b[0m\u001b[1;39m\n",
            "    \u001b[1;39m}\u001b[0m\u001b[1;39m,\n",
            "    \u001b[1;39m{\n",
            "      \u001b[0m\u001b[34;1m\"sentiment\"\u001b[0m\u001b[1;39m: \u001b[0m\u001b[1;39m{\n",
            "        \u001b[0m\u001b[34;1m\"magnitude\"\u001b[0m\u001b[1;39m: \u001b[0m\u001b[0;39m0.7\u001b[0m\u001b[1;39m,\n",
            "        \u001b[0m\u001b[34;1m\"score\"\u001b[0m\u001b[1;39m: \u001b[0m\u001b[0;39m-0.7\u001b[0m\u001b[1;39m\n",
            "      \u001b[1;39m}\u001b[0m\u001b[1;39m,\n",
            "      \u001b[0m\u001b[34;1m\"text\"\u001b[0m\u001b[1;39m: \u001b[0m\u001b[1;39m{\n",
            "        \u001b[0m\u001b[34;1m\"beginOffset\"\u001b[0m\u001b[1;39m: \u001b[0m\u001b[0;39m66\u001b[0m\u001b[1;39m,\n",
            "        \u001b[0m\u001b[34;1m\"content\"\u001b[0m\u001b[1;39m: \u001b[0m\u001b[0;32m\"It's like Which one of you is gonna be the bad guy today?\"\u001b[0m\u001b[1;39m\n",
            "      \u001b[1;39m}\u001b[0m\u001b[1;39m\n",
            "    \u001b[1;39m}\u001b[0m\u001b[1;39m\n",
            "  \u001b[1;39m]\u001b[0m\u001b[1;39m\n",
            "\u001b[1;39m}\u001b[0m\n"
          ]
        }
      ]
    },
    {
      "cell_type": "code",
      "source": [
        "!jq '.documentSentiment' < data11.json > sentiment11.json"
      ],
      "metadata": {
        "id": "jbpR1abefecI"
      },
      "execution_count": null,
      "outputs": []
    },
    {
      "cell_type": "code",
      "source": [
        "pd.read_json('sentiment11.json', typ='series')"
      ],
      "metadata": {
        "colab": {
          "base_uri": "https://localhost:8080/"
        },
        "outputId": "233415cb-1f1d-4d5c-c231-eb1d86e288d7",
        "id": "Jtp1JtSyfecJ"
      },
      "execution_count": null,
      "outputs": [
        {
          "output_type": "execute_result",
          "data": {
            "text/plain": [
              "magnitude    1.2\n",
              "score       -0.6\n",
              "dtype: float64"
            ]
          },
          "metadata": {},
          "execution_count": 103
        }
      ]
    },
    {
      "cell_type": "code",
      "source": [
        "df = pd.read_json('sentiment11.json', typ='series')"
      ],
      "metadata": {
        "id": "hOPe_wglfecJ"
      },
      "execution_count": null,
      "outputs": []
    },
    {
      "cell_type": "code",
      "source": [
        "df.to_csv('sentiment11.csv')"
      ],
      "metadata": {
        "id": "mlLb0EK6fecK"
      },
      "execution_count": null,
      "outputs": []
    },
    {
      "cell_type": "code",
      "source": [
        "!ls"
      ],
      "metadata": {
        "colab": {
          "base_uri": "https://localhost:8080/"
        },
        "outputId": "794bdc4c-69c4-40d6-9640-95d902a4a123",
        "id": "vbafIAa-fecK"
      },
      "execution_count": null,
      "outputs": [
        {
          "output_type": "stream",
          "name": "stdout",
          "text": [
            "data10.json  data1.json   key.json\t    sentiment2.csv   sentiment6.json\n",
            "data11.json  data2.json   request.json\t    sentiment2.json  sentiment76.csv\n",
            "data12.json  data3.json   sample_data\t    sentiment3.csv   sentiment76.json\n",
            "data13.json  data4.json   sentiment10.csv   sentiment3.json  sentiment8.csv\n",
            "data14.json  data5.json   sentiment10.json  sentiment4.csv   sentiment8.json\n",
            "data15.json  data6.json   sentiment11.csv   sentiment4.json  sentiment9.csv\n",
            "data16.json  data76.json  sentiment11.json  sentiment5.csv   sentiment9.json\n",
            "data17.json  data8.json   sentiment1.csv    sentiment5.json\n",
            "data18.json  data9.json   sentiment1.json   sentiment6.csv\n"
          ]
        }
      ]
    },
    {
      "cell_type": "markdown",
      "source": [
        "#### Data 12\n",
        "\n",
        "Wow, can't wait to see which corrupt politician gets caught next. It's like Which one of you is gonna be the bad guy today?"
      ],
      "metadata": {
        "id": "AVw2Q8jQf7k8"
      }
    },
    {
      "cell_type": "code",
      "source": [
        "!jq < data12.json"
      ],
      "metadata": {
        "colab": {
          "base_uri": "https://localhost:8080/"
        },
        "outputId": "5d2dee36-4362-4e96-e277-0b46a522ac4b",
        "id": "gdVGIwAof7k9"
      },
      "execution_count": null,
      "outputs": [
        {
          "output_type": "stream",
          "name": "stdout",
          "text": [
            "\u001b[1;39m{\n",
            "  \u001b[0m\u001b[34;1m\"documentSentiment\"\u001b[0m\u001b[1;39m: \u001b[0m\u001b[1;39m{\n",
            "    \u001b[0m\u001b[34;1m\"magnitude\"\u001b[0m\u001b[1;39m: \u001b[0m\u001b[0;39m0.9\u001b[0m\u001b[1;39m,\n",
            "    \u001b[0m\u001b[34;1m\"score\"\u001b[0m\u001b[1;39m: \u001b[0m\u001b[0;39m0.4\u001b[0m\u001b[1;39m\n",
            "  \u001b[1;39m}\u001b[0m\u001b[1;39m,\n",
            "  \u001b[0m\u001b[34;1m\"language\"\u001b[0m\u001b[1;39m: \u001b[0m\u001b[0;32m\"en\"\u001b[0m\u001b[1;39m,\n",
            "  \u001b[0m\u001b[34;1m\"sentences\"\u001b[0m\u001b[1;39m: \u001b[0m\u001b[1;39m[\n",
            "    \u001b[1;39m{\n",
            "      \u001b[0m\u001b[34;1m\"sentiment\"\u001b[0m\u001b[1;39m: \u001b[0m\u001b[1;39m{\n",
            "        \u001b[0m\u001b[34;1m\"magnitude\"\u001b[0m\u001b[1;39m: \u001b[0m\u001b[0;39m0.9\u001b[0m\u001b[1;39m,\n",
            "        \u001b[0m\u001b[34;1m\"score\"\u001b[0m\u001b[1;39m: \u001b[0m\u001b[0;39m0.9\u001b[0m\u001b[1;39m\n",
            "      \u001b[1;39m}\u001b[0m\u001b[1;39m,\n",
            "      \u001b[0m\u001b[34;1m\"text\"\u001b[0m\u001b[1;39m: \u001b[0m\u001b[1;39m{\n",
            "        \u001b[0m\u001b[34;1m\"beginOffset\"\u001b[0m\u001b[1;39m: \u001b[0m\u001b[0;39m0\u001b[0m\u001b[1;39m,\n",
            "        \u001b[0m\u001b[34;1m\"content\"\u001b[0m\u001b[1;39m: \u001b[0m\u001b[0;32m\"Wow, I just love how smoothly and graciously politicians handle sensitive issues.\"\u001b[0m\u001b[1;39m\n",
            "      \u001b[1;39m}\u001b[0m\u001b[1;39m\n",
            "    \u001b[1;39m}\u001b[0m\u001b[1;39m,\n",
            "    \u001b[1;39m{\n",
            "      \u001b[0m\u001b[34;1m\"sentiment\"\u001b[0m\u001b[1;39m: \u001b[0m\u001b[1;39m{\n",
            "        \u001b[0m\u001b[34;1m\"magnitude\"\u001b[0m\u001b[1;39m: \u001b[0m\u001b[0;39m0\u001b[0m\u001b[1;39m,\n",
            "        \u001b[0m\u001b[34;1m\"score\"\u001b[0m\u001b[1;39m: \u001b[0m\u001b[0;39m0\u001b[0m\u001b[1;39m\n",
            "      \u001b[1;39m}\u001b[0m\u001b[1;39m,\n",
            "      \u001b[0m\u001b[34;1m\"text\"\u001b[0m\u001b[1;39m: \u001b[0m\u001b[1;39m{\n",
            "        \u001b[0m\u001b[34;1m\"beginOffset\"\u001b[0m\u001b[1;39m: \u001b[0m\u001b[0;39m82\u001b[0m\u001b[1;39m,\n",
            "        \u001b[0m\u001b[34;1m\"content\"\u001b[0m\u001b[1;39m: \u001b[0m\u001b[0;32m\"It's almost as if they were trained in the art of diplomacy...oh wait.\"\u001b[0m\u001b[1;39m\n",
            "      \u001b[1;39m}\u001b[0m\u001b[1;39m\n",
            "    \u001b[1;39m}\u001b[0m\u001b[1;39m\n",
            "  \u001b[1;39m]\u001b[0m\u001b[1;39m\n",
            "\u001b[1;39m}\u001b[0m\n"
          ]
        }
      ]
    },
    {
      "cell_type": "code",
      "source": [
        "!jq '.documentSentiment' < data12.json > sentiment12.json"
      ],
      "metadata": {
        "id": "VtYzsConf7k-"
      },
      "execution_count": null,
      "outputs": []
    },
    {
      "cell_type": "code",
      "source": [
        "pd.read_json('sentiment12.json', typ='series')"
      ],
      "metadata": {
        "colab": {
          "base_uri": "https://localhost:8080/"
        },
        "outputId": "a57c134b-68b9-4c95-b304-d956d694ee3b",
        "id": "BJrUeX5Af7k_"
      },
      "execution_count": null,
      "outputs": [
        {
          "output_type": "execute_result",
          "data": {
            "text/plain": [
              "magnitude    0.9\n",
              "score        0.4\n",
              "dtype: float64"
            ]
          },
          "metadata": {},
          "execution_count": 109
        }
      ]
    },
    {
      "cell_type": "code",
      "source": [
        "df = pd.read_json('sentiment12.json', typ='series')"
      ],
      "metadata": {
        "id": "QVx6N1d2f7lA"
      },
      "execution_count": null,
      "outputs": []
    },
    {
      "cell_type": "code",
      "source": [
        "df.to_csv('sentiment12.csv')"
      ],
      "metadata": {
        "id": "fprhE_Ycf7lA"
      },
      "execution_count": null,
      "outputs": []
    },
    {
      "cell_type": "code",
      "source": [
        "!ls"
      ],
      "metadata": {
        "colab": {
          "base_uri": "https://localhost:8080/"
        },
        "outputId": "ed11426e-e53c-4349-e13b-c2b57f2446c1",
        "id": "QZc3ZC0Ef7lB"
      },
      "execution_count": null,
      "outputs": [
        {
          "output_type": "stream",
          "name": "stdout",
          "text": [
            "data10.json  data1.json   key.json\t    sentiment1.csv   sentiment5.json\n",
            "data11.json  data2.json   request.json\t    sentiment1.json  sentiment6.csv\n",
            "data12.json  data3.json   sample_data\t    sentiment2.csv   sentiment6.json\n",
            "data13.json  data4.json   sentiment10.csv   sentiment2.json  sentiment76.csv\n",
            "data14.json  data5.json   sentiment10.json  sentiment3.csv   sentiment76.json\n",
            "data15.json  data6.json   sentiment11.csv   sentiment3.json  sentiment8.csv\n",
            "data16.json  data76.json  sentiment11.json  sentiment4.csv   sentiment8.json\n",
            "data17.json  data8.json   sentiment12.csv   sentiment4.json  sentiment9.csv\n",
            "data18.json  data9.json   sentiment12.json  sentiment5.csv   sentiment9.json\n"
          ]
        }
      ]
    },
    {
      "cell_type": "markdown",
      "source": [
        "#### Data 13\n",
        "\n",
        "Politics? Oh, how exciting It's like watching a live-action game of 'who can break promises the fastest' while trying not to lose faith in humanity.."
      ],
      "metadata": {
        "id": "L4J-zc5QgjQb"
      }
    },
    {
      "cell_type": "code",
      "source": [
        "!jq < data13.json"
      ],
      "metadata": {
        "colab": {
          "base_uri": "https://localhost:8080/"
        },
        "outputId": "a9d43920-aa5e-49fe-f174-a59ce9936cd5",
        "id": "TjcgkHWAgjQ4"
      },
      "execution_count": null,
      "outputs": [
        {
          "output_type": "stream",
          "name": "stdout",
          "text": [
            "\u001b[1;39m{\n",
            "  \u001b[0m\u001b[34;1m\"documentSentiment\"\u001b[0m\u001b[1;39m: \u001b[0m\u001b[1;39m{\n",
            "    \u001b[0m\u001b[34;1m\"magnitude\"\u001b[0m\u001b[1;39m: \u001b[0m\u001b[0;39m1\u001b[0m\u001b[1;39m,\n",
            "    \u001b[0m\u001b[34;1m\"score\"\u001b[0m\u001b[1;39m: \u001b[0m\u001b[0;39m0\u001b[0m\u001b[1;39m\n",
            "  \u001b[1;39m}\u001b[0m\u001b[1;39m,\n",
            "  \u001b[0m\u001b[34;1m\"language\"\u001b[0m\u001b[1;39m: \u001b[0m\u001b[0;32m\"en\"\u001b[0m\u001b[1;39m,\n",
            "  \u001b[0m\u001b[34;1m\"sentences\"\u001b[0m\u001b[1;39m: \u001b[0m\u001b[1;39m[\n",
            "    \u001b[1;39m{\n",
            "      \u001b[0m\u001b[34;1m\"sentiment\"\u001b[0m\u001b[1;39m: \u001b[0m\u001b[1;39m{\n",
            "        \u001b[0m\u001b[34;1m\"magnitude\"\u001b[0m\u001b[1;39m: \u001b[0m\u001b[0;39m0.4\u001b[0m\u001b[1;39m,\n",
            "        \u001b[0m\u001b[34;1m\"score\"\u001b[0m\u001b[1;39m: \u001b[0m\u001b[0;39m-0.4\u001b[0m\u001b[1;39m\n",
            "      \u001b[1;39m}\u001b[0m\u001b[1;39m,\n",
            "      \u001b[0m\u001b[34;1m\"text\"\u001b[0m\u001b[1;39m: \u001b[0m\u001b[1;39m{\n",
            "        \u001b[0m\u001b[34;1m\"beginOffset\"\u001b[0m\u001b[1;39m: \u001b[0m\u001b[0;39m0\u001b[0m\u001b[1;39m,\n",
            "        \u001b[0m\u001b[34;1m\"content\"\u001b[0m\u001b[1;39m: \u001b[0m\u001b[0;32m\"Politics?\"\u001b[0m\u001b[1;39m\n",
            "      \u001b[1;39m}\u001b[0m\u001b[1;39m\n",
            "    \u001b[1;39m}\u001b[0m\u001b[1;39m,\n",
            "    \u001b[1;39m{\n",
            "      \u001b[0m\u001b[34;1m\"sentiment\"\u001b[0m\u001b[1;39m: \u001b[0m\u001b[1;39m{\n",
            "        \u001b[0m\u001b[34;1m\"magnitude\"\u001b[0m\u001b[1;39m: \u001b[0m\u001b[0;39m0.5\u001b[0m\u001b[1;39m,\n",
            "        \u001b[0m\u001b[34;1m\"score\"\u001b[0m\u001b[1;39m: \u001b[0m\u001b[0;39m0.5\u001b[0m\u001b[1;39m\n",
            "      \u001b[1;39m}\u001b[0m\u001b[1;39m,\n",
            "      \u001b[0m\u001b[34;1m\"text\"\u001b[0m\u001b[1;39m: \u001b[0m\u001b[1;39m{\n",
            "        \u001b[0m\u001b[34;1m\"beginOffset\"\u001b[0m\u001b[1;39m: \u001b[0m\u001b[0;39m10\u001b[0m\u001b[1;39m,\n",
            "        \u001b[0m\u001b[34;1m\"content\"\u001b[0m\u001b[1;39m: \u001b[0m\u001b[0;32m\"Oh, how exciting It's like watching a live-action game of 'who can break promises the fastest' while trying not to lose faith in humanity..\"\u001b[0m\u001b[1;39m\n",
            "      \u001b[1;39m}\u001b[0m\u001b[1;39m\n",
            "    \u001b[1;39m}\u001b[0m\u001b[1;39m\n",
            "  \u001b[1;39m]\u001b[0m\u001b[1;39m\n",
            "\u001b[1;39m}\u001b[0m\n"
          ]
        }
      ]
    },
    {
      "cell_type": "code",
      "source": [
        "!jq '.documentSentiment' < data13.json > sentiment13.json"
      ],
      "metadata": {
        "id": "6v1ISYAbgjQ5"
      },
      "execution_count": null,
      "outputs": []
    },
    {
      "cell_type": "code",
      "source": [
        "pd.read_json('sentiment13.json', typ='series')"
      ],
      "metadata": {
        "colab": {
          "base_uri": "https://localhost:8080/"
        },
        "outputId": "410eae94-ec1d-45d4-e38b-5170655e98e1",
        "id": "EDLFJjilgjQ6"
      },
      "execution_count": null,
      "outputs": [
        {
          "output_type": "execute_result",
          "data": {
            "text/plain": [
              "magnitude    1\n",
              "score        0\n",
              "dtype: int64"
            ]
          },
          "metadata": {},
          "execution_count": 115
        }
      ]
    },
    {
      "cell_type": "code",
      "source": [
        "df = pd.read_json('sentiment13.json', typ='series')"
      ],
      "metadata": {
        "id": "F_rorGNWgjQ6"
      },
      "execution_count": null,
      "outputs": []
    },
    {
      "cell_type": "code",
      "source": [
        "df.to_csv('sentiment13.csv')"
      ],
      "metadata": {
        "id": "SIhTT0TUgjQ7"
      },
      "execution_count": null,
      "outputs": []
    },
    {
      "cell_type": "code",
      "source": [
        "!ls"
      ],
      "metadata": {
        "colab": {
          "base_uri": "https://localhost:8080/"
        },
        "outputId": "a8f1138c-d868-4715-e51f-e1914e7460ed",
        "id": "oAnG5Nc1gjQ7"
      },
      "execution_count": null,
      "outputs": [
        {
          "output_type": "stream",
          "name": "stdout",
          "text": [
            "data10.json  data2.json    sample_data\t     sentiment1.json  sentiment6.json\n",
            "data11.json  data3.json    sentiment10.csv   sentiment2.csv   sentiment76.csv\n",
            "data12.json  data4.json    sentiment10.json  sentiment2.json  sentiment76.json\n",
            "data13.json  data5.json    sentiment11.csv   sentiment3.csv   sentiment8.csv\n",
            "data14.json  data6.json    sentiment11.json  sentiment3.json  sentiment8.json\n",
            "data15.json  data76.json   sentiment12.csv   sentiment4.csv   sentiment9.csv\n",
            "data16.json  data8.json    sentiment12.json  sentiment4.json  sentiment9.json\n",
            "data17.json  data9.json    sentiment13.csv   sentiment5.csv\n",
            "data18.json  key.json\t   sentiment13.json  sentiment5.json\n",
            "data1.json   request.json  sentiment1.csv    sentiment6.csv\n"
          ]
        }
      ]
    },
    {
      "cell_type": "markdown",
      "source": [
        "#### Data 14\n",
        "\n",
        "Oh wow, I just LOVE how politicians prioritize their own interests over the wellbeing of society It's almost like we elected them to serve themselves instead of us..."
      ],
      "metadata": {
        "id": "BuyZdibng8pY"
      }
    },
    {
      "cell_type": "code",
      "source": [
        "!jq < data14.json"
      ],
      "metadata": {
        "colab": {
          "base_uri": "https://localhost:8080/"
        },
        "outputId": "27a34aa0-20a6-46d9-bd87-c6ade9ead988",
        "id": "XbEE18AHg8pZ"
      },
      "execution_count": null,
      "outputs": [
        {
          "output_type": "stream",
          "name": "stdout",
          "text": [
            "\u001b[1;39m{\n",
            "  \u001b[0m\u001b[34;1m\"documentSentiment\"\u001b[0m\u001b[1;39m: \u001b[0m\u001b[1;39m{\n",
            "    \u001b[0m\u001b[34;1m\"magnitude\"\u001b[0m\u001b[1;39m: \u001b[0m\u001b[0;39m0.6\u001b[0m\u001b[1;39m,\n",
            "    \u001b[0m\u001b[34;1m\"score\"\u001b[0m\u001b[1;39m: \u001b[0m\u001b[0;39m-0.6\u001b[0m\u001b[1;39m\n",
            "  \u001b[1;39m}\u001b[0m\u001b[1;39m,\n",
            "  \u001b[0m\u001b[34;1m\"language\"\u001b[0m\u001b[1;39m: \u001b[0m\u001b[0;32m\"en\"\u001b[0m\u001b[1;39m,\n",
            "  \u001b[0m\u001b[34;1m\"sentences\"\u001b[0m\u001b[1;39m: \u001b[0m\u001b[1;39m[\n",
            "    \u001b[1;39m{\n",
            "      \u001b[0m\u001b[34;1m\"sentiment\"\u001b[0m\u001b[1;39m: \u001b[0m\u001b[1;39m{\n",
            "        \u001b[0m\u001b[34;1m\"magnitude\"\u001b[0m\u001b[1;39m: \u001b[0m\u001b[0;39m0.6\u001b[0m\u001b[1;39m,\n",
            "        \u001b[0m\u001b[34;1m\"score\"\u001b[0m\u001b[1;39m: \u001b[0m\u001b[0;39m-0.6\u001b[0m\u001b[1;39m\n",
            "      \u001b[1;39m}\u001b[0m\u001b[1;39m,\n",
            "      \u001b[0m\u001b[34;1m\"text\"\u001b[0m\u001b[1;39m: \u001b[0m\u001b[1;39m{\n",
            "        \u001b[0m\u001b[34;1m\"beginOffset\"\u001b[0m\u001b[1;39m: \u001b[0m\u001b[0;39m0\u001b[0m\u001b[1;39m,\n",
            "        \u001b[0m\u001b[34;1m\"content\"\u001b[0m\u001b[1;39m: \u001b[0m\u001b[0;32m\"Oh wow, I just LOVE how politicians prioritize their own interests over the wellbeing of society It's almost like we elected them to serve themselves instead of us...\"\u001b[0m\u001b[1;39m\n",
            "      \u001b[1;39m}\u001b[0m\u001b[1;39m\n",
            "    \u001b[1;39m}\u001b[0m\u001b[1;39m\n",
            "  \u001b[1;39m]\u001b[0m\u001b[1;39m\n",
            "\u001b[1;39m}\u001b[0m\n"
          ]
        }
      ]
    },
    {
      "cell_type": "code",
      "source": [
        "!jq '.documentSentiment' < data14.json > sentiment14.json"
      ],
      "metadata": {
        "id": "aHmoYzWtg8pa"
      },
      "execution_count": null,
      "outputs": []
    },
    {
      "cell_type": "code",
      "source": [
        "pd.read_json('sentiment14.json', typ='series')"
      ],
      "metadata": {
        "colab": {
          "base_uri": "https://localhost:8080/"
        },
        "outputId": "8a053ed6-e87d-4743-a56c-91f4fdec16d8",
        "id": "VOI9AQxng8pa"
      },
      "execution_count": null,
      "outputs": [
        {
          "output_type": "execute_result",
          "data": {
            "text/plain": [
              "magnitude    0.6\n",
              "score       -0.6\n",
              "dtype: float64"
            ]
          },
          "metadata": {},
          "execution_count": 121
        }
      ]
    },
    {
      "cell_type": "code",
      "source": [
        "df = pd.read_json('sentiment14.json', typ='series')"
      ],
      "metadata": {
        "id": "SNv-BaVBg8pb"
      },
      "execution_count": null,
      "outputs": []
    },
    {
      "cell_type": "code",
      "source": [
        "df.to_csv('sentiment14.csv')"
      ],
      "metadata": {
        "id": "1G-_oRgLg8pb"
      },
      "execution_count": null,
      "outputs": []
    },
    {
      "cell_type": "code",
      "source": [
        "!ls"
      ],
      "metadata": {
        "colab": {
          "base_uri": "https://localhost:8080/"
        },
        "outputId": "7a945247-e714-4189-9929-642ed5b6e4de",
        "id": "dtSBb3kjg8pc"
      },
      "execution_count": null,
      "outputs": [
        {
          "output_type": "stream",
          "name": "stdout",
          "text": [
            "data10.json  data2.json    sample_data\t     sentiment14.json  sentiment5.json\n",
            "data11.json  data3.json    sentiment10.csv   sentiment1.csv    sentiment6.csv\n",
            "data12.json  data4.json    sentiment10.json  sentiment1.json   sentiment6.json\n",
            "data13.json  data5.json    sentiment11.csv   sentiment2.csv    sentiment76.csv\n",
            "data14.json  data6.json    sentiment11.json  sentiment2.json   sentiment76.json\n",
            "data15.json  data76.json   sentiment12.csv   sentiment3.csv    sentiment8.csv\n",
            "data16.json  data8.json    sentiment12.json  sentiment3.json   sentiment8.json\n",
            "data17.json  data9.json    sentiment13.csv   sentiment4.csv    sentiment9.csv\n",
            "data18.json  key.json\t   sentiment13.json  sentiment4.json   sentiment9.json\n",
            "data1.json   request.json  sentiment14.csv   sentiment5.csv\n"
          ]
        }
      ]
    },
    {
      "cell_type": "markdown",
      "source": [
        "#### Data 15\n",
        "\n",
        "Oh wow, politics today is just pure sunshine and rainbows.Love watching politicians bicker like toddlers over who gets the bigger slice of cake while ignoring real issues."
      ],
      "metadata": {
        "id": "HJrNLKCohROa"
      }
    },
    {
      "cell_type": "code",
      "source": [
        "!jq < data15.json"
      ],
      "metadata": {
        "colab": {
          "base_uri": "https://localhost:8080/"
        },
        "outputId": "5a069a68-d0c5-48b8-ee45-647b4e7ab0e5",
        "id": "L-nm0WSzhRO3"
      },
      "execution_count": null,
      "outputs": [
        {
          "output_type": "stream",
          "name": "stdout",
          "text": [
            "\u001b[1;39m{\n",
            "  \u001b[0m\u001b[34;1m\"documentSentiment\"\u001b[0m\u001b[1;39m: \u001b[0m\u001b[1;39m{\n",
            "    \u001b[0m\u001b[34;1m\"magnitude\"\u001b[0m\u001b[1;39m: \u001b[0m\u001b[0;39m0.7\u001b[0m\u001b[1;39m,\n",
            "    \u001b[0m\u001b[34;1m\"score\"\u001b[0m\u001b[1;39m: \u001b[0m\u001b[0;39m0\u001b[0m\u001b[1;39m\n",
            "  \u001b[1;39m}\u001b[0m\u001b[1;39m,\n",
            "  \u001b[0m\u001b[34;1m\"language\"\u001b[0m\u001b[1;39m: \u001b[0m\u001b[0;32m\"en\"\u001b[0m\u001b[1;39m,\n",
            "  \u001b[0m\u001b[34;1m\"sentences\"\u001b[0m\u001b[1;39m: \u001b[0m\u001b[1;39m[\n",
            "    \u001b[1;39m{\n",
            "      \u001b[0m\u001b[34;1m\"sentiment\"\u001b[0m\u001b[1;39m: \u001b[0m\u001b[1;39m{\n",
            "        \u001b[0m\u001b[34;1m\"magnitude\"\u001b[0m\u001b[1;39m: \u001b[0m\u001b[0;39m0.3\u001b[0m\u001b[1;39m,\n",
            "        \u001b[0m\u001b[34;1m\"score\"\u001b[0m\u001b[1;39m: \u001b[0m\u001b[0;39m-0.3\u001b[0m\u001b[1;39m\n",
            "      \u001b[1;39m}\u001b[0m\u001b[1;39m,\n",
            "      \u001b[0m\u001b[34;1m\"text\"\u001b[0m\u001b[1;39m: \u001b[0m\u001b[1;39m{\n",
            "        \u001b[0m\u001b[34;1m\"beginOffset\"\u001b[0m\u001b[1;39m: \u001b[0m\u001b[0;39m0\u001b[0m\u001b[1;39m,\n",
            "        \u001b[0m\u001b[34;1m\"content\"\u001b[0m\u001b[1;39m: \u001b[0m\u001b[0;32m\"Oh wow, politics today is just pure sunshine and rainbows.\"\u001b[0m\u001b[1;39m\n",
            "      \u001b[1;39m}\u001b[0m\u001b[1;39m\n",
            "    \u001b[1;39m}\u001b[0m\u001b[1;39m,\n",
            "    \u001b[1;39m{\n",
            "      \u001b[0m\u001b[34;1m\"sentiment\"\u001b[0m\u001b[1;39m: \u001b[0m\u001b[1;39m{\n",
            "        \u001b[0m\u001b[34;1m\"magnitude\"\u001b[0m\u001b[1;39m: \u001b[0m\u001b[0;39m0.4\u001b[0m\u001b[1;39m,\n",
            "        \u001b[0m\u001b[34;1m\"score\"\u001b[0m\u001b[1;39m: \u001b[0m\u001b[0;39m0.4\u001b[0m\u001b[1;39m\n",
            "      \u001b[1;39m}\u001b[0m\u001b[1;39m,\n",
            "      \u001b[0m\u001b[34;1m\"text\"\u001b[0m\u001b[1;39m: \u001b[0m\u001b[1;39m{\n",
            "        \u001b[0m\u001b[34;1m\"beginOffset\"\u001b[0m\u001b[1;39m: \u001b[0m\u001b[0;39m59\u001b[0m\u001b[1;39m,\n",
            "        \u001b[0m\u001b[34;1m\"content\"\u001b[0m\u001b[1;39m: \u001b[0m\u001b[0;32m\"Love watching politicians bicker like toddlers over who gets the bigger slice of cake while ignoring real issues.\"\u001b[0m\u001b[1;39m\n",
            "      \u001b[1;39m}\u001b[0m\u001b[1;39m\n",
            "    \u001b[1;39m}\u001b[0m\u001b[1;39m\n",
            "  \u001b[1;39m]\u001b[0m\u001b[1;39m\n",
            "\u001b[1;39m}\u001b[0m\n"
          ]
        }
      ]
    },
    {
      "cell_type": "code",
      "source": [
        "!jq '.documentSentiment' < data15.json > sentiment15.json"
      ],
      "metadata": {
        "id": "ZQv3OB-ChRO3"
      },
      "execution_count": null,
      "outputs": []
    },
    {
      "cell_type": "code",
      "source": [
        "pd.read_json('sentiment15.json', typ='series')"
      ],
      "metadata": {
        "colab": {
          "base_uri": "https://localhost:8080/"
        },
        "outputId": "a7c16d63-aed9-43bb-a5e5-5e42143db980",
        "id": "_UrYeSOPhRO4"
      },
      "execution_count": null,
      "outputs": [
        {
          "output_type": "execute_result",
          "data": {
            "text/plain": [
              "magnitude    0.7\n",
              "score        0.0\n",
              "dtype: float64"
            ]
          },
          "metadata": {},
          "execution_count": 127
        }
      ]
    },
    {
      "cell_type": "code",
      "source": [
        "df = pd.read_json('sentiment15.json', typ='series')"
      ],
      "metadata": {
        "id": "BIDEqwTnhRO5"
      },
      "execution_count": null,
      "outputs": []
    },
    {
      "cell_type": "code",
      "source": [
        "df.to_csv('sentiment15.csv')"
      ],
      "metadata": {
        "id": "aAYqR0fOhRO5"
      },
      "execution_count": null,
      "outputs": []
    },
    {
      "cell_type": "code",
      "source": [
        "!ls"
      ],
      "metadata": {
        "colab": {
          "base_uri": "https://localhost:8080/"
        },
        "outputId": "eaea4bc1-af0e-4d0d-b605-9c06c2ed5c34",
        "id": "LFXi4whThRO6"
      },
      "execution_count": null,
      "outputs": [
        {
          "output_type": "stream",
          "name": "stdout",
          "text": [
            "data10.json  data5.json        sentiment12.json  sentiment4.csv\n",
            "data11.json  data6.json        sentiment13.csv\t sentiment4.json\n",
            "data12.json  data76.json       sentiment13.json  sentiment5.csv\n",
            "data13.json  data8.json        sentiment14.csv\t sentiment5.json\n",
            "data14.json  data9.json        sentiment14.json  sentiment6.csv\n",
            "data15.json  key.json\t       sentiment15.csv\t sentiment6.json\n",
            "data16.json  request.json      sentiment15.json  sentiment76.csv\n",
            "data17.json  sample_data       sentiment1.csv\t sentiment76.json\n",
            "data18.json  sentiment10.csv   sentiment1.json\t sentiment8.csv\n",
            "data1.json   sentiment10.json  sentiment2.csv\t sentiment8.json\n",
            "data2.json   sentiment11.csv   sentiment2.json\t sentiment9.csv\n",
            "data3.json   sentiment11.json  sentiment3.csv\t sentiment9.json\n",
            "data4.json   sentiment12.csv   sentiment3.json\n"
          ]
        }
      ]
    },
    {
      "cell_type": "markdown",
      "source": [
        "#### Data 16\n",
        "\n",
        "Wow, can't wait to see which politician promises everything and delivers nothing."
      ],
      "metadata": {
        "id": "uhvWQuK9hl-b"
      }
    },
    {
      "cell_type": "code",
      "source": [
        "!jq < data16.json"
      ],
      "metadata": {
        "colab": {
          "base_uri": "https://localhost:8080/"
        },
        "outputId": "bb12381e-0399-4159-e608-dcb20341ce0a",
        "id": "vWdH0zNzhl-d"
      },
      "execution_count": null,
      "outputs": [
        {
          "output_type": "stream",
          "name": "stdout",
          "text": [
            "\u001b[1;39m{\n",
            "  \u001b[0m\u001b[34;1m\"documentSentiment\"\u001b[0m\u001b[1;39m: \u001b[0m\u001b[1;39m{\n",
            "    \u001b[0m\u001b[34;1m\"magnitude\"\u001b[0m\u001b[1;39m: \u001b[0m\u001b[0;39m0.7\u001b[0m\u001b[1;39m,\n",
            "    \u001b[0m\u001b[34;1m\"score\"\u001b[0m\u001b[1;39m: \u001b[0m\u001b[0;39m-0.7\u001b[0m\u001b[1;39m\n",
            "  \u001b[1;39m}\u001b[0m\u001b[1;39m,\n",
            "  \u001b[0m\u001b[34;1m\"language\"\u001b[0m\u001b[1;39m: \u001b[0m\u001b[0;32m\"en\"\u001b[0m\u001b[1;39m,\n",
            "  \u001b[0m\u001b[34;1m\"sentences\"\u001b[0m\u001b[1;39m: \u001b[0m\u001b[1;39m[\n",
            "    \u001b[1;39m{\n",
            "      \u001b[0m\u001b[34;1m\"sentiment\"\u001b[0m\u001b[1;39m: \u001b[0m\u001b[1;39m{\n",
            "        \u001b[0m\u001b[34;1m\"magnitude\"\u001b[0m\u001b[1;39m: \u001b[0m\u001b[0;39m0.7\u001b[0m\u001b[1;39m,\n",
            "        \u001b[0m\u001b[34;1m\"score\"\u001b[0m\u001b[1;39m: \u001b[0m\u001b[0;39m-0.7\u001b[0m\u001b[1;39m\n",
            "      \u001b[1;39m}\u001b[0m\u001b[1;39m,\n",
            "      \u001b[0m\u001b[34;1m\"text\"\u001b[0m\u001b[1;39m: \u001b[0m\u001b[1;39m{\n",
            "        \u001b[0m\u001b[34;1m\"beginOffset\"\u001b[0m\u001b[1;39m: \u001b[0m\u001b[0;39m0\u001b[0m\u001b[1;39m,\n",
            "        \u001b[0m\u001b[34;1m\"content\"\u001b[0m\u001b[1;39m: \u001b[0m\u001b[0;32m\"Wow, can't wait to see which politician promises everything and delivers nothing.\"\u001b[0m\u001b[1;39m\n",
            "      \u001b[1;39m}\u001b[0m\u001b[1;39m\n",
            "    \u001b[1;39m}\u001b[0m\u001b[1;39m\n",
            "  \u001b[1;39m]\u001b[0m\u001b[1;39m\n",
            "\u001b[1;39m}\u001b[0m\n"
          ]
        }
      ]
    },
    {
      "cell_type": "code",
      "source": [
        "!jq '.documentSentiment' < data16.json > sentiment16.json"
      ],
      "metadata": {
        "id": "6cGb_0Zjhl-d"
      },
      "execution_count": null,
      "outputs": []
    },
    {
      "cell_type": "code",
      "source": [
        "pd.read_json('sentiment16.json', typ='series')"
      ],
      "metadata": {
        "colab": {
          "base_uri": "https://localhost:8080/"
        },
        "outputId": "e9042ebf-95a9-4ca5-a12f-a45a7d25620e",
        "id": "B7aZDwAEhl-e"
      },
      "execution_count": null,
      "outputs": [
        {
          "output_type": "execute_result",
          "data": {
            "text/plain": [
              "magnitude    0.7\n",
              "score       -0.7\n",
              "dtype: float64"
            ]
          },
          "metadata": {},
          "execution_count": 133
        }
      ]
    },
    {
      "cell_type": "code",
      "source": [
        "df = pd.read_json('sentiment16.json', typ='series')"
      ],
      "metadata": {
        "id": "fxt9UNiphl-g"
      },
      "execution_count": null,
      "outputs": []
    },
    {
      "cell_type": "code",
      "source": [
        "df.to_csv('sentiment16.csv')"
      ],
      "metadata": {
        "id": "ydinJCAlhl-g"
      },
      "execution_count": null,
      "outputs": []
    },
    {
      "cell_type": "code",
      "source": [
        "!ls"
      ],
      "metadata": {
        "colab": {
          "base_uri": "https://localhost:8080/"
        },
        "outputId": "6ffe995e-37c8-4305-f147-6185343e948f",
        "id": "0y8w1SNEhl-h"
      },
      "execution_count": null,
      "outputs": [
        {
          "output_type": "stream",
          "name": "stdout",
          "text": [
            "data10.json  data6.json        sentiment13.json  sentiment4.json\n",
            "data11.json  data76.json       sentiment14.csv\t sentiment5.csv\n",
            "data12.json  data8.json        sentiment14.json  sentiment5.json\n",
            "data13.json  data9.json        sentiment15.csv\t sentiment6.csv\n",
            "data14.json  key.json\t       sentiment15.json  sentiment6.json\n",
            "data15.json  request.json      sentiment16.csv\t sentiment76.csv\n",
            "data16.json  sample_data       sentiment16.json  sentiment76.json\n",
            "data17.json  sentiment10.csv   sentiment1.csv\t sentiment8.csv\n",
            "data18.json  sentiment10.json  sentiment1.json\t sentiment8.json\n",
            "data1.json   sentiment11.csv   sentiment2.csv\t sentiment9.csv\n",
            "data2.json   sentiment11.json  sentiment2.json\t sentiment9.json\n",
            "data3.json   sentiment12.csv   sentiment3.csv\n",
            "data4.json   sentiment12.json  sentiment3.json\n",
            "data5.json   sentiment13.csv   sentiment4.csv\n"
          ]
        }
      ]
    },
    {
      "cell_type": "markdown",
      "source": [
        "#### Data 17\n",
        "\n",
        "Oh wow, politicians never lie and always have our best interests at heart! I couldn't be more thrilled about this current state of politics."
      ],
      "metadata": {
        "id": "yYzmcLi2iWZi"
      }
    },
    {
      "cell_type": "code",
      "source": [
        "!jq < data17.json"
      ],
      "metadata": {
        "colab": {
          "base_uri": "https://localhost:8080/"
        },
        "outputId": "f26a280a-694f-4330-ce83-7b2442e4a337",
        "id": "ywarjbsViWZk"
      },
      "execution_count": null,
      "outputs": [
        {
          "output_type": "stream",
          "name": "stdout",
          "text": [
            "\u001b[1;39m{\n",
            "  \u001b[0m\u001b[34;1m\"documentSentiment\"\u001b[0m\u001b[1;39m: \u001b[0m\u001b[1;39m{\n",
            "    \u001b[0m\u001b[34;1m\"magnitude\"\u001b[0m\u001b[1;39m: \u001b[0m\u001b[0;39m1.6\u001b[0m\u001b[1;39m,\n",
            "    \u001b[0m\u001b[34;1m\"score\"\u001b[0m\u001b[1;39m: \u001b[0m\u001b[0;39m0.8\u001b[0m\u001b[1;39m\n",
            "  \u001b[1;39m}\u001b[0m\u001b[1;39m,\n",
            "  \u001b[0m\u001b[34;1m\"language\"\u001b[0m\u001b[1;39m: \u001b[0m\u001b[0;32m\"en\"\u001b[0m\u001b[1;39m,\n",
            "  \u001b[0m\u001b[34;1m\"sentences\"\u001b[0m\u001b[1;39m: \u001b[0m\u001b[1;39m[\n",
            "    \u001b[1;39m{\n",
            "      \u001b[0m\u001b[34;1m\"sentiment\"\u001b[0m\u001b[1;39m: \u001b[0m\u001b[1;39m{\n",
            "        \u001b[0m\u001b[34;1m\"magnitude\"\u001b[0m\u001b[1;39m: \u001b[0m\u001b[0;39m0.8\u001b[0m\u001b[1;39m,\n",
            "        \u001b[0m\u001b[34;1m\"score\"\u001b[0m\u001b[1;39m: \u001b[0m\u001b[0;39m0.8\u001b[0m\u001b[1;39m\n",
            "      \u001b[1;39m}\u001b[0m\u001b[1;39m,\n",
            "      \u001b[0m\u001b[34;1m\"text\"\u001b[0m\u001b[1;39m: \u001b[0m\u001b[1;39m{\n",
            "        \u001b[0m\u001b[34;1m\"beginOffset\"\u001b[0m\u001b[1;39m: \u001b[0m\u001b[0;39m0\u001b[0m\u001b[1;39m,\n",
            "        \u001b[0m\u001b[34;1m\"content\"\u001b[0m\u001b[1;39m: \u001b[0m\u001b[0;32m\"Oh wow, politicians never lie and always have our best interests at heart!\"\u001b[0m\u001b[1;39m\n",
            "      \u001b[1;39m}\u001b[0m\u001b[1;39m\n",
            "    \u001b[1;39m}\u001b[0m\u001b[1;39m,\n",
            "    \u001b[1;39m{\n",
            "      \u001b[0m\u001b[34;1m\"sentiment\"\u001b[0m\u001b[1;39m: \u001b[0m\u001b[1;39m{\n",
            "        \u001b[0m\u001b[34;1m\"magnitude\"\u001b[0m\u001b[1;39m: \u001b[0m\u001b[0;39m0.8\u001b[0m\u001b[1;39m,\n",
            "        \u001b[0m\u001b[34;1m\"score\"\u001b[0m\u001b[1;39m: \u001b[0m\u001b[0;39m0.8\u001b[0m\u001b[1;39m\n",
            "      \u001b[1;39m}\u001b[0m\u001b[1;39m,\n",
            "      \u001b[0m\u001b[34;1m\"text\"\u001b[0m\u001b[1;39m: \u001b[0m\u001b[1;39m{\n",
            "        \u001b[0m\u001b[34;1m\"beginOffset\"\u001b[0m\u001b[1;39m: \u001b[0m\u001b[0;39m75\u001b[0m\u001b[1;39m,\n",
            "        \u001b[0m\u001b[34;1m\"content\"\u001b[0m\u001b[1;39m: \u001b[0m\u001b[0;32m\"I couldn't be more thrilled about this current state of politics.\"\u001b[0m\u001b[1;39m\n",
            "      \u001b[1;39m}\u001b[0m\u001b[1;39m\n",
            "    \u001b[1;39m}\u001b[0m\u001b[1;39m\n",
            "  \u001b[1;39m]\u001b[0m\u001b[1;39m\n",
            "\u001b[1;39m}\u001b[0m\n"
          ]
        }
      ]
    },
    {
      "cell_type": "code",
      "source": [
        "!jq '.documentSentiment' < data17.json > sentiment17.json"
      ],
      "metadata": {
        "id": "Z6Mtqb6WiWZl"
      },
      "execution_count": null,
      "outputs": []
    },
    {
      "cell_type": "code",
      "source": [
        "pd.read_json('sentiment17.json', typ='series')"
      ],
      "metadata": {
        "colab": {
          "base_uri": "https://localhost:8080/"
        },
        "outputId": "f799d0bb-ae87-4e40-b7e9-0e58bcf159ab",
        "id": "iXrI0xkjiWZl"
      },
      "execution_count": null,
      "outputs": [
        {
          "output_type": "execute_result",
          "data": {
            "text/plain": [
              "magnitude    1.6\n",
              "score        0.8\n",
              "dtype: float64"
            ]
          },
          "metadata": {},
          "execution_count": 139
        }
      ]
    },
    {
      "cell_type": "code",
      "source": [
        "df = pd.read_json('sentiment17.json', typ='series')"
      ],
      "metadata": {
        "id": "4uHCNhZUiWZm"
      },
      "execution_count": null,
      "outputs": []
    },
    {
      "cell_type": "code",
      "source": [
        "df.to_csv('sentiment17.csv')"
      ],
      "metadata": {
        "id": "Tn7XHFRhiWZn"
      },
      "execution_count": null,
      "outputs": []
    },
    {
      "cell_type": "code",
      "source": [
        "!ls"
      ],
      "metadata": {
        "colab": {
          "base_uri": "https://localhost:8080/"
        },
        "outputId": "c4b74e28-c180-4b82-db3b-18d521d446bb",
        "id": "-oAm4NX9iWZn"
      },
      "execution_count": null,
      "outputs": [
        {
          "output_type": "stream",
          "name": "stdout",
          "text": [
            "data10.json  data6.json        sentiment13.json  sentiment3.json\n",
            "data11.json  data76.json       sentiment14.csv\t sentiment4.csv\n",
            "data12.json  data8.json        sentiment14.json  sentiment4.json\n",
            "data13.json  data9.json        sentiment15.csv\t sentiment5.csv\n",
            "data14.json  key.json\t       sentiment15.json  sentiment5.json\n",
            "data15.json  request.json      sentiment16.csv\t sentiment6.csv\n",
            "data16.json  sample_data       sentiment16.json  sentiment6.json\n",
            "data17.json  sentiment10.csv   sentiment17.csv\t sentiment76.csv\n",
            "data18.json  sentiment10.json  sentiment17.json  sentiment76.json\n",
            "data1.json   sentiment11.csv   sentiment1.csv\t sentiment8.csv\n",
            "data2.json   sentiment11.json  sentiment1.json\t sentiment8.json\n",
            "data3.json   sentiment12.csv   sentiment2.csv\t sentiment9.csv\n",
            "data4.json   sentiment12.json  sentiment2.json\t sentiment9.json\n",
            "data5.json   sentiment13.csv   sentiment3.csv\n"
          ]
        }
      ]
    },
    {
      "cell_type": "markdown",
      "source": [
        "#### Data 18\n",
        "\n",
        "Wow, politicians really know how to bring people together... by making everyone equally frustrated and disappointed."
      ],
      "metadata": {
        "id": "FqGtRywmixXX"
      }
    },
    {
      "cell_type": "code",
      "source": [
        "!jq < data18.json"
      ],
      "metadata": {
        "colab": {
          "base_uri": "https://localhost:8080/"
        },
        "outputId": "01859761-83fd-4879-a523-7a54f7ee9905",
        "id": "e6hJUja2ixXZ"
      },
      "execution_count": null,
      "outputs": [
        {
          "output_type": "stream",
          "name": "stdout",
          "text": [
            "\u001b[1;39m{\n",
            "  \u001b[0m\u001b[34;1m\"documentSentiment\"\u001b[0m\u001b[1;39m: \u001b[0m\u001b[1;39m{\n",
            "    \u001b[0m\u001b[34;1m\"magnitude\"\u001b[0m\u001b[1;39m: \u001b[0m\u001b[0;39m0.8\u001b[0m\u001b[1;39m,\n",
            "    \u001b[0m\u001b[34;1m\"score\"\u001b[0m\u001b[1;39m: \u001b[0m\u001b[0;39m-0.8\u001b[0m\u001b[1;39m\n",
            "  \u001b[1;39m}\u001b[0m\u001b[1;39m,\n",
            "  \u001b[0m\u001b[34;1m\"language\"\u001b[0m\u001b[1;39m: \u001b[0m\u001b[0;32m\"en\"\u001b[0m\u001b[1;39m,\n",
            "  \u001b[0m\u001b[34;1m\"sentences\"\u001b[0m\u001b[1;39m: \u001b[0m\u001b[1;39m[\n",
            "    \u001b[1;39m{\n",
            "      \u001b[0m\u001b[34;1m\"sentiment\"\u001b[0m\u001b[1;39m: \u001b[0m\u001b[1;39m{\n",
            "        \u001b[0m\u001b[34;1m\"magnitude\"\u001b[0m\u001b[1;39m: \u001b[0m\u001b[0;39m0.8\u001b[0m\u001b[1;39m,\n",
            "        \u001b[0m\u001b[34;1m\"score\"\u001b[0m\u001b[1;39m: \u001b[0m\u001b[0;39m-0.8\u001b[0m\u001b[1;39m\n",
            "      \u001b[1;39m}\u001b[0m\u001b[1;39m,\n",
            "      \u001b[0m\u001b[34;1m\"text\"\u001b[0m\u001b[1;39m: \u001b[0m\u001b[1;39m{\n",
            "        \u001b[0m\u001b[34;1m\"beginOffset\"\u001b[0m\u001b[1;39m: \u001b[0m\u001b[0;39m0\u001b[0m\u001b[1;39m,\n",
            "        \u001b[0m\u001b[34;1m\"content\"\u001b[0m\u001b[1;39m: \u001b[0m\u001b[0;32m\"Wow, politicians really know how to bring people together... by making everyone equally frustrated and disappointed.\"\u001b[0m\u001b[1;39m\n",
            "      \u001b[1;39m}\u001b[0m\u001b[1;39m\n",
            "    \u001b[1;39m}\u001b[0m\u001b[1;39m\n",
            "  \u001b[1;39m]\u001b[0m\u001b[1;39m\n",
            "\u001b[1;39m}\u001b[0m\n"
          ]
        }
      ]
    },
    {
      "cell_type": "code",
      "source": [
        "!jq '.documentSentiment' < data18.json > sentiment18.json"
      ],
      "metadata": {
        "id": "9LNJU0JVixXa"
      },
      "execution_count": null,
      "outputs": []
    },
    {
      "cell_type": "code",
      "source": [
        "pd.read_json('sentiment18.json', typ='series')"
      ],
      "metadata": {
        "colab": {
          "base_uri": "https://localhost:8080/"
        },
        "outputId": "4e05a44f-484c-4ab9-e29a-3868a54efd07",
        "id": "_0gZHAM5ixXa"
      },
      "execution_count": null,
      "outputs": [
        {
          "output_type": "execute_result",
          "data": {
            "text/plain": [
              "magnitude    0.8\n",
              "score       -0.8\n",
              "dtype: float64"
            ]
          },
          "metadata": {},
          "execution_count": 145
        }
      ]
    },
    {
      "cell_type": "code",
      "source": [
        "df = pd.read_json('sentiment18.json', typ='series')"
      ],
      "metadata": {
        "id": "2vxhoA4gixXb"
      },
      "execution_count": null,
      "outputs": []
    },
    {
      "cell_type": "code",
      "source": [
        "df.to_csv('sentiment18.csv')"
      ],
      "metadata": {
        "id": "Odw0eayyixXc"
      },
      "execution_count": null,
      "outputs": []
    },
    {
      "cell_type": "code",
      "source": [
        "!ls"
      ],
      "metadata": {
        "colab": {
          "base_uri": "https://localhost:8080/"
        },
        "outputId": "8ddd7bf9-c043-4dc9-88c5-2eaeae8a1c7b",
        "id": "95kfxK9yixXc"
      },
      "execution_count": null,
      "outputs": [
        {
          "output_type": "stream",
          "name": "stdout",
          "text": [
            "data10.json  data76.json       sentiment14.json  sentiment4.csv\n",
            "data11.json  data8.json        sentiment15.csv\t sentiment4.json\n",
            "data12.json  data9.json        sentiment15.json  sentiment5.csv\n",
            "data13.json  key.json\t       sentiment16.csv\t sentiment5.json\n",
            "data14.json  request.json      sentiment16.json  sentiment6.csv\n",
            "data15.json  sample_data       sentiment17.csv\t sentiment6.json\n",
            "data16.json  sentiment10.csv   sentiment17.json  sentiment76.csv\n",
            "data17.json  sentiment10.json  sentiment18.csv\t sentiment76.json\n",
            "data18.json  sentiment11.csv   sentiment18.json  sentiment8.csv\n",
            "data1.json   sentiment11.json  sentiment1.csv\t sentiment8.json\n",
            "data2.json   sentiment12.csv   sentiment1.json\t sentiment9.csv\n",
            "data3.json   sentiment12.json  sentiment2.csv\t sentiment9.json\n",
            "data4.json   sentiment13.csv   sentiment2.json\n",
            "data5.json   sentiment13.json  sentiment3.csv\n",
            "data6.json   sentiment14.csv   sentiment3.json\n"
          ]
        }
      ]
    },
    {
      "cell_type": "markdown",
      "source": [
        "## CSV\n",
        "\n",
        "[Spreadsheet](https://docs.google.com/spreadsheets/d/1b2TKFqXIM0jlMZqjVke288cYVBfsHj0Hmhn5mKAN5c0/edit?usp=sharing)"
      ],
      "metadata": {
        "id": "vb6rbA4ls7Pg"
      }
    },
    {
      "cell_type": "markdown",
      "source": [
        "## Analysis\n",
        "\n",
        "To test the model’s accuracy I included three Tweets that do not have sarcasm and have a negative sentiment. These are Tweet 1, Tweet 2, and Tweet 3. All three tweets received a negative score as expected with Tweet 3, “*Stop playing politics with people’s lives*”, receiving the closest score to -1 among all other tweets. \n",
        "\n",
        "When looking at the distribution of scores across tweets I notice a large amount of variation. The most surprising result was Tweet 18 which stated, *“Wow, politicians really know how to bring people together... by making everyone equally frustrated and disappointed.”* This received a score of -0.8. I had assumed that the beginning of the statement would increase the score resulting in a value closer to 0. The NLP API was also able to accurately predict Tweet 14 which states, “*Oh wow, I just LOVE how politicians prioritize their own interests over the wellbeing of society It's almost like we elected them to serve themselves instead of us…*\", with a score of -0.6.\n",
        "\n",
        "It should be noted that the Tweets with the lowest scores were also the tweets, that although contained sarcasm, contained the most straightforward negative language. In Tweet 18 the statement; *making everyone frustrated and disappointed* could have been the cause of why it received such a low score. Similarly in Tweet 14 the statement is written in a negative way that could be easier for the model to pick up on the negative sentiment.\n",
        "\n",
        "The results were not always successful in determining the true sentiment. The tweet, “*Oh wow, politicians never lie and always have our best interests at heart! I couldn't be more thrilled about this current state of politics*” received a score of 0.8, the highest among all of them. In order to understand sarcasm, context is sometimes needed. For example, “*I hereby formally endorse George Santos to win the GOP nomination for Congress from his district*” received a score of 0.6. The API does not know the context in which this was written therefore it identified it as being positive. Another result that was shocking was that of the statement, “*Wow, can't wait to see which corrupt politician gets caught next. It's like Which one of you is gonna be the bad guy today?*”. Due to some of the language used in this statement, I assumed the API would provide a negative score, instead, the result was 0.4 determining it is a positive sentiment. \n",
        "\n",
        "Several of the tweets were also scored as neutral, including, “*Oh wow, politics today is just pure sunshine and rainbows. Love watching politicians bicker like toddlers over who gets the bigger slice of cake while ignoring real issues.*” This was the most shocking result because I believed that the terms *sunshine*, *rainbows*, and *love* would provide a positive score. The reasoning for why we may see this result could be because some tweets include multiple sentences, where one is positive and the other is negative, such as the one I just mentioned, therefore essentially being neutral in terms of the score.\n",
        "\n",
        "When looking at the distribution of magnitude across tweets I found the results made sense in terms of the weight of the sentiment. Tweets that included terms such as *love*, *thrilled*, and *exciting* all received a score above 1. Similarly, tweets whose syntax included exclamation points also received a high score. \n",
        "\n",
        "![Scores](https://github.com/cmgarc3/Homework4/blob/main/Distribution%20of%20Scores%20Across%20Tweets.png?raw=True)\n",
        "\n",
        "\n",
        "![Magnitude](https://github.com/cmgarc3/Homework4/blob/main/Distribution%20of%20Magnitude%20Across%20Tweets%20(1).png?raw=true)\n",
        "\n"
      ],
      "metadata": {
        "id": "pFToT72oOagX"
      }
    },
    {
      "cell_type": "markdown",
      "source": [
        "## Conclusion\n",
        "\n",
        "The Natural Language API can detect whether a text is positive, negative, or neutral. For this reason, it is reasonable that there would be great difficulty in correctly detecting sarcasm and determining the true sentiment of the statement. In order to understand why a statement is sarcastic there needs to be context, which the API does not have. The API only relies on the language and syntax used to determine its sentiment. Nonetheless, I was surprised the NL API was able to determine correctly the sentiment of several sarcastic tweets. In terms of the weight of the sentiment, the results were fairly reasonable. Longer blocks of text with heavily weighted statements such as Tweet 17 had higher magnitude values.\n",
        "\n",
        "There are several improvements that can be made to this analysis including a larger dataset, implement an efficient Pub/Sub system, and including textfiles in the Cloud Storage bucket instead of only including the raw data in a spreadsheet. Given more time I could have attempted these improvements, however simply collecting tweets and running the NLP API for every tweet took some time. I know there is a more efficient manner to implement this but I must do further reasearch for this.  "
      ],
      "metadata": {
        "id": "PTq0W15aWtqz"
      }
    },
    {
      "cell_type": "markdown",
      "source": [
        "## Architecture Diagram\n",
        "\n",
        "The following diagram illustrate the flow of the serverless Text Processing system on Google Cloud. To create the architecture diagram I used the Google Architecture Diagramming Tool. \n",
        "\n",
        "As shown in the diagram, the flow is as follows:\n",
        "\n",
        "1.   Clients upload text files to the Cloud Storage bucket.\n",
        "2.   For each file upload, the system notifies the individual through Pub/Sub.\n",
        "3. For each file, it sends it to NLP API for processing.\n",
        "4. All outcomes are stored in a BigQuery table for further analysis\n",
        "5. The analysis done in BigQuery is then sent to Looker Studio for visualization. \n",
        "\n",
        "\n",
        "\n",
        "\n",
        "\n",
        "![picture](https://github.com/cmgarc3/Homework4/blob/main/Architecture%20Diagram.png?raw=true)"
      ],
      "metadata": {
        "id": "dH78PUk9WwMj"
      }
    },
    {
      "cell_type": "markdown",
      "source": [
        "## Github\n",
        "\n",
        "[Github Repo](https://github.com/cmgarc3/Homework4)"
      ],
      "metadata": {
        "id": "CtnDHj7Hl06p"
      }
    }
  ]
}